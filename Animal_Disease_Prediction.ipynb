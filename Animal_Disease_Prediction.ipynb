{
  "cells": [
    {
      "cell_type": "markdown",
      "metadata": {
        "id": "view-in-github",
        "colab_type": "text"
      },
      "source": [
        "<a href=\"https://colab.research.google.com/github/Adehwam21/animal-disease-prediction/blob/main/Animal_Disease_Prediction.ipynb\" target=\"_parent\"><img src=\"https://colab.research.google.com/assets/colab-badge.svg\" alt=\"Open In Colab\"/></a>"
      ]
    },
    {
      "cell_type": "markdown",
      "metadata": {
        "id": "irBgXcCKj6Bs"
      },
      "source": [
        "**Installing necessary libraries**"
      ]
    },
    {
      "cell_type": "code",
      "execution_count": null,
      "metadata": {
        "colab": {
          "base_uri": "https://localhost:8080/"
        },
        "id": "CGK8I4KDdU2F",
        "outputId": "3f9565c7-2e5d-4bdc-c323-c5ce79032777"
      },
      "outputs": [
        {
          "output_type": "stream",
          "name": "stdout",
          "text": [
            "Requirement already satisfied: requests in /usr/local/lib/python3.10/dist-packages (2.31.0)\n",
            "Requirement already satisfied: seaborn in /usr/local/lib/python3.10/dist-packages (0.12.2)\n",
            "Requirement already satisfied: matplotlib in /usr/local/lib/python3.10/dist-packages (3.7.1)\n",
            "Requirement already satisfied: pandas in /usr/local/lib/python3.10/dist-packages (1.5.3)\n",
            "Requirement already satisfied: charset-normalizer<4,>=2 in /usr/local/lib/python3.10/dist-packages (from requests) (3.3.2)\n",
            "Requirement already satisfied: idna<4,>=2.5 in /usr/local/lib/python3.10/dist-packages (from requests) (3.6)\n",
            "Requirement already satisfied: urllib3<3,>=1.21.1 in /usr/local/lib/python3.10/dist-packages (from requests) (2.0.7)\n",
            "Requirement already satisfied: certifi>=2017.4.17 in /usr/local/lib/python3.10/dist-packages (from requests) (2023.11.17)\n",
            "Requirement already satisfied: numpy!=1.24.0,>=1.17 in /usr/local/lib/python3.10/dist-packages (from seaborn) (1.23.5)\n",
            "Requirement already satisfied: contourpy>=1.0.1 in /usr/local/lib/python3.10/dist-packages (from matplotlib) (1.2.0)\n",
            "Requirement already satisfied: cycler>=0.10 in /usr/local/lib/python3.10/dist-packages (from matplotlib) (0.12.1)\n",
            "Requirement already satisfied: fonttools>=4.22.0 in /usr/local/lib/python3.10/dist-packages (from matplotlib) (4.46.0)\n",
            "Requirement already satisfied: kiwisolver>=1.0.1 in /usr/local/lib/python3.10/dist-packages (from matplotlib) (1.4.5)\n",
            "Requirement already satisfied: packaging>=20.0 in /usr/local/lib/python3.10/dist-packages (from matplotlib) (23.2)\n",
            "Requirement already satisfied: pillow>=6.2.0 in /usr/local/lib/python3.10/dist-packages (from matplotlib) (9.4.0)\n",
            "Requirement already satisfied: pyparsing>=2.3.1 in /usr/local/lib/python3.10/dist-packages (from matplotlib) (3.1.1)\n",
            "Requirement already satisfied: python-dateutil>=2.7 in /usr/local/lib/python3.10/dist-packages (from matplotlib) (2.8.2)\n",
            "Requirement already satisfied: pytz>=2020.1 in /usr/local/lib/python3.10/dist-packages (from pandas) (2023.3.post1)\n",
            "Requirement already satisfied: six>=1.5 in /usr/local/lib/python3.10/dist-packages (from python-dateutil>=2.7->matplotlib) (1.16.0)\n"
          ]
        }
      ],
      "source": [
        "!pip install requests seaborn matplotlib pandas\n"
      ]
    },
    {
      "cell_type": "markdown",
      "metadata": {
        "id": "G6uOtHbNkOw2"
      },
      "source": [
        "**Getting the dataset**"
      ]
    },
    {
      "cell_type": "code",
      "execution_count": null,
      "metadata": {
        "id": "D3R1HLCiiEDj"
      },
      "outputs": [],
      "source": [
        "from urllib.request import urlretrieve\n",
        "import pandas as pd"
      ]
    },
    {
      "cell_type": "code",
      "execution_count": null,
      "metadata": {
        "colab": {
          "base_uri": "https://localhost:8080/",
          "height": 363
        },
        "id": "UiwjH3QAcxk6",
        "outputId": "3c3ce920-e40d-4aeb-9d85-2f660019c4cd"
      },
      "outputs": [
        {
          "output_type": "execute_result",
          "data": {
            "text/plain": [
              "    Animal  Age  Temperature           Symptom 1           Symptom 2  \\\n",
              "0      cow    3        103.1          depression      painless lumps   \n",
              "1  buffalo   13        104.5      painless lumps    loss of appetite   \n",
              "2    sheep    1        100.5          depression      painless lumps   \n",
              "3      cow   14        100.3    loss of appetite    swelling in limb   \n",
              "4    sheep    2        103.6      painless lumps    loss of appetite   \n",
              "5     goat   10        101.2    loss of appetite    blisters on gums   \n",
              "6    sheep    6        103.3    loss of appetite          depression   \n",
              "7     goat    6        101.7  difficulty walking  blisters on tongue   \n",
              "8  buffalo    9        102.5          depression      painless lumps   \n",
              "9     goat    3        102.7            lameness   blisters on mouth   \n",
              "\n",
              "            Symptom 3         Disease  \n",
              "0    loss of appetite       pneumonia  \n",
              "1          depression     lumpy virus  \n",
              "2    loss of appetite     lumpy virus  \n",
              "3     crackling sound        blackleg  \n",
              "4          depression       pneumonia  \n",
              "5  difficulty walking  foot and mouth  \n",
              "6      painless lumps     lumpy virus  \n",
              "7    loss of appetite  foot and mouth  \n",
              "8    loss of appetite     lumpy virus  \n",
              "9    loss of appetite  foot and mouth  "
            ],
            "text/html": [
              "\n",
              "  <div id=\"df-ed4e4ec6-d4b4-443c-a818-12784ad58cfa\" class=\"colab-df-container\">\n",
              "    <div>\n",
              "<style scoped>\n",
              "    .dataframe tbody tr th:only-of-type {\n",
              "        vertical-align: middle;\n",
              "    }\n",
              "\n",
              "    .dataframe tbody tr th {\n",
              "        vertical-align: top;\n",
              "    }\n",
              "\n",
              "    .dataframe thead th {\n",
              "        text-align: right;\n",
              "    }\n",
              "</style>\n",
              "<table border=\"1\" class=\"dataframe\">\n",
              "  <thead>\n",
              "    <tr style=\"text-align: right;\">\n",
              "      <th></th>\n",
              "      <th>Animal</th>\n",
              "      <th>Age</th>\n",
              "      <th>Temperature</th>\n",
              "      <th>Symptom 1</th>\n",
              "      <th>Symptom 2</th>\n",
              "      <th>Symptom 3</th>\n",
              "      <th>Disease</th>\n",
              "    </tr>\n",
              "  </thead>\n",
              "  <tbody>\n",
              "    <tr>\n",
              "      <th>0</th>\n",
              "      <td>cow</td>\n",
              "      <td>3</td>\n",
              "      <td>103.1</td>\n",
              "      <td>depression</td>\n",
              "      <td>painless lumps</td>\n",
              "      <td>loss of appetite</td>\n",
              "      <td>pneumonia</td>\n",
              "    </tr>\n",
              "    <tr>\n",
              "      <th>1</th>\n",
              "      <td>buffalo</td>\n",
              "      <td>13</td>\n",
              "      <td>104.5</td>\n",
              "      <td>painless lumps</td>\n",
              "      <td>loss of appetite</td>\n",
              "      <td>depression</td>\n",
              "      <td>lumpy virus</td>\n",
              "    </tr>\n",
              "    <tr>\n",
              "      <th>2</th>\n",
              "      <td>sheep</td>\n",
              "      <td>1</td>\n",
              "      <td>100.5</td>\n",
              "      <td>depression</td>\n",
              "      <td>painless lumps</td>\n",
              "      <td>loss of appetite</td>\n",
              "      <td>lumpy virus</td>\n",
              "    </tr>\n",
              "    <tr>\n",
              "      <th>3</th>\n",
              "      <td>cow</td>\n",
              "      <td>14</td>\n",
              "      <td>100.3</td>\n",
              "      <td>loss of appetite</td>\n",
              "      <td>swelling in limb</td>\n",
              "      <td>crackling sound</td>\n",
              "      <td>blackleg</td>\n",
              "    </tr>\n",
              "    <tr>\n",
              "      <th>4</th>\n",
              "      <td>sheep</td>\n",
              "      <td>2</td>\n",
              "      <td>103.6</td>\n",
              "      <td>painless lumps</td>\n",
              "      <td>loss of appetite</td>\n",
              "      <td>depression</td>\n",
              "      <td>pneumonia</td>\n",
              "    </tr>\n",
              "    <tr>\n",
              "      <th>5</th>\n",
              "      <td>goat</td>\n",
              "      <td>10</td>\n",
              "      <td>101.2</td>\n",
              "      <td>loss of appetite</td>\n",
              "      <td>blisters on gums</td>\n",
              "      <td>difficulty walking</td>\n",
              "      <td>foot and mouth</td>\n",
              "    </tr>\n",
              "    <tr>\n",
              "      <th>6</th>\n",
              "      <td>sheep</td>\n",
              "      <td>6</td>\n",
              "      <td>103.3</td>\n",
              "      <td>loss of appetite</td>\n",
              "      <td>depression</td>\n",
              "      <td>painless lumps</td>\n",
              "      <td>lumpy virus</td>\n",
              "    </tr>\n",
              "    <tr>\n",
              "      <th>7</th>\n",
              "      <td>goat</td>\n",
              "      <td>6</td>\n",
              "      <td>101.7</td>\n",
              "      <td>difficulty walking</td>\n",
              "      <td>blisters on tongue</td>\n",
              "      <td>loss of appetite</td>\n",
              "      <td>foot and mouth</td>\n",
              "    </tr>\n",
              "    <tr>\n",
              "      <th>8</th>\n",
              "      <td>buffalo</td>\n",
              "      <td>9</td>\n",
              "      <td>102.5</td>\n",
              "      <td>depression</td>\n",
              "      <td>painless lumps</td>\n",
              "      <td>loss of appetite</td>\n",
              "      <td>lumpy virus</td>\n",
              "    </tr>\n",
              "    <tr>\n",
              "      <th>9</th>\n",
              "      <td>goat</td>\n",
              "      <td>3</td>\n",
              "      <td>102.7</td>\n",
              "      <td>lameness</td>\n",
              "      <td>blisters on mouth</td>\n",
              "      <td>loss of appetite</td>\n",
              "      <td>foot and mouth</td>\n",
              "    </tr>\n",
              "  </tbody>\n",
              "</table>\n",
              "</div>\n",
              "    <div class=\"colab-df-buttons\">\n",
              "\n",
              "  <div class=\"colab-df-container\">\n",
              "    <button class=\"colab-df-convert\" onclick=\"convertToInteractive('df-ed4e4ec6-d4b4-443c-a818-12784ad58cfa')\"\n",
              "            title=\"Convert this dataframe to an interactive table.\"\n",
              "            style=\"display:none;\">\n",
              "\n",
              "  <svg xmlns=\"http://www.w3.org/2000/svg\" height=\"24px\" viewBox=\"0 -960 960 960\">\n",
              "    <path d=\"M120-120v-720h720v720H120Zm60-500h600v-160H180v160Zm220 220h160v-160H400v160Zm0 220h160v-160H400v160ZM180-400h160v-160H180v160Zm440 0h160v-160H620v160ZM180-180h160v-160H180v160Zm440 0h160v-160H620v160Z\"/>\n",
              "  </svg>\n",
              "    </button>\n",
              "\n",
              "  <style>\n",
              "    .colab-df-container {\n",
              "      display:flex;\n",
              "      gap: 12px;\n",
              "    }\n",
              "\n",
              "    .colab-df-convert {\n",
              "      background-color: #E8F0FE;\n",
              "      border: none;\n",
              "      border-radius: 50%;\n",
              "      cursor: pointer;\n",
              "      display: none;\n",
              "      fill: #1967D2;\n",
              "      height: 32px;\n",
              "      padding: 0 0 0 0;\n",
              "      width: 32px;\n",
              "    }\n",
              "\n",
              "    .colab-df-convert:hover {\n",
              "      background-color: #E2EBFA;\n",
              "      box-shadow: 0px 1px 2px rgba(60, 64, 67, 0.3), 0px 1px 3px 1px rgba(60, 64, 67, 0.15);\n",
              "      fill: #174EA6;\n",
              "    }\n",
              "\n",
              "    .colab-df-buttons div {\n",
              "      margin-bottom: 4px;\n",
              "    }\n",
              "\n",
              "    [theme=dark] .colab-df-convert {\n",
              "      background-color: #3B4455;\n",
              "      fill: #D2E3FC;\n",
              "    }\n",
              "\n",
              "    [theme=dark] .colab-df-convert:hover {\n",
              "      background-color: #434B5C;\n",
              "      box-shadow: 0px 1px 3px 1px rgba(0, 0, 0, 0.15);\n",
              "      filter: drop-shadow(0px 1px 2px rgba(0, 0, 0, 0.3));\n",
              "      fill: #FFFFFF;\n",
              "    }\n",
              "  </style>\n",
              "\n",
              "    <script>\n",
              "      const buttonEl =\n",
              "        document.querySelector('#df-ed4e4ec6-d4b4-443c-a818-12784ad58cfa button.colab-df-convert');\n",
              "      buttonEl.style.display =\n",
              "        google.colab.kernel.accessAllowed ? 'block' : 'none';\n",
              "\n",
              "      async function convertToInteractive(key) {\n",
              "        const element = document.querySelector('#df-ed4e4ec6-d4b4-443c-a818-12784ad58cfa');\n",
              "        const dataTable =\n",
              "          await google.colab.kernel.invokeFunction('convertToInteractive',\n",
              "                                                    [key], {});\n",
              "        if (!dataTable) return;\n",
              "\n",
              "        const docLinkHtml = 'Like what you see? Visit the ' +\n",
              "          '<a target=\"_blank\" href=https://colab.research.google.com/notebooks/data_table.ipynb>data table notebook</a>'\n",
              "          + ' to learn more about interactive tables.';\n",
              "        element.innerHTML = '';\n",
              "        dataTable['output_type'] = 'display_data';\n",
              "        await google.colab.output.renderOutput(dataTable, element);\n",
              "        const docLink = document.createElement('div');\n",
              "        docLink.innerHTML = docLinkHtml;\n",
              "        element.appendChild(docLink);\n",
              "      }\n",
              "    </script>\n",
              "  </div>\n",
              "\n",
              "\n",
              "<div id=\"df-084d0250-9a79-4708-899a-b5dbe688cc0d\">\n",
              "  <button class=\"colab-df-quickchart\" onclick=\"quickchart('df-084d0250-9a79-4708-899a-b5dbe688cc0d')\"\n",
              "            title=\"Suggest charts\"\n",
              "            style=\"display:none;\">\n",
              "\n",
              "<svg xmlns=\"http://www.w3.org/2000/svg\" height=\"24px\"viewBox=\"0 0 24 24\"\n",
              "     width=\"24px\">\n",
              "    <g>\n",
              "        <path d=\"M19 3H5c-1.1 0-2 .9-2 2v14c0 1.1.9 2 2 2h14c1.1 0 2-.9 2-2V5c0-1.1-.9-2-2-2zM9 17H7v-7h2v7zm4 0h-2V7h2v10zm4 0h-2v-4h2v4z\"/>\n",
              "    </g>\n",
              "</svg>\n",
              "  </button>\n",
              "\n",
              "<style>\n",
              "  .colab-df-quickchart {\n",
              "      --bg-color: #E8F0FE;\n",
              "      --fill-color: #1967D2;\n",
              "      --hover-bg-color: #E2EBFA;\n",
              "      --hover-fill-color: #174EA6;\n",
              "      --disabled-fill-color: #AAA;\n",
              "      --disabled-bg-color: #DDD;\n",
              "  }\n",
              "\n",
              "  [theme=dark] .colab-df-quickchart {\n",
              "      --bg-color: #3B4455;\n",
              "      --fill-color: #D2E3FC;\n",
              "      --hover-bg-color: #434B5C;\n",
              "      --hover-fill-color: #FFFFFF;\n",
              "      --disabled-bg-color: #3B4455;\n",
              "      --disabled-fill-color: #666;\n",
              "  }\n",
              "\n",
              "  .colab-df-quickchart {\n",
              "    background-color: var(--bg-color);\n",
              "    border: none;\n",
              "    border-radius: 50%;\n",
              "    cursor: pointer;\n",
              "    display: none;\n",
              "    fill: var(--fill-color);\n",
              "    height: 32px;\n",
              "    padding: 0;\n",
              "    width: 32px;\n",
              "  }\n",
              "\n",
              "  .colab-df-quickchart:hover {\n",
              "    background-color: var(--hover-bg-color);\n",
              "    box-shadow: 0 1px 2px rgba(60, 64, 67, 0.3), 0 1px 3px 1px rgba(60, 64, 67, 0.15);\n",
              "    fill: var(--button-hover-fill-color);\n",
              "  }\n",
              "\n",
              "  .colab-df-quickchart-complete:disabled,\n",
              "  .colab-df-quickchart-complete:disabled:hover {\n",
              "    background-color: var(--disabled-bg-color);\n",
              "    fill: var(--disabled-fill-color);\n",
              "    box-shadow: none;\n",
              "  }\n",
              "\n",
              "  .colab-df-spinner {\n",
              "    border: 2px solid var(--fill-color);\n",
              "    border-color: transparent;\n",
              "    border-bottom-color: var(--fill-color);\n",
              "    animation:\n",
              "      spin 1s steps(1) infinite;\n",
              "  }\n",
              "\n",
              "  @keyframes spin {\n",
              "    0% {\n",
              "      border-color: transparent;\n",
              "      border-bottom-color: var(--fill-color);\n",
              "      border-left-color: var(--fill-color);\n",
              "    }\n",
              "    20% {\n",
              "      border-color: transparent;\n",
              "      border-left-color: var(--fill-color);\n",
              "      border-top-color: var(--fill-color);\n",
              "    }\n",
              "    30% {\n",
              "      border-color: transparent;\n",
              "      border-left-color: var(--fill-color);\n",
              "      border-top-color: var(--fill-color);\n",
              "      border-right-color: var(--fill-color);\n",
              "    }\n",
              "    40% {\n",
              "      border-color: transparent;\n",
              "      border-right-color: var(--fill-color);\n",
              "      border-top-color: var(--fill-color);\n",
              "    }\n",
              "    60% {\n",
              "      border-color: transparent;\n",
              "      border-right-color: var(--fill-color);\n",
              "    }\n",
              "    80% {\n",
              "      border-color: transparent;\n",
              "      border-right-color: var(--fill-color);\n",
              "      border-bottom-color: var(--fill-color);\n",
              "    }\n",
              "    90% {\n",
              "      border-color: transparent;\n",
              "      border-bottom-color: var(--fill-color);\n",
              "    }\n",
              "  }\n",
              "</style>\n",
              "\n",
              "  <script>\n",
              "    async function quickchart(key) {\n",
              "      const quickchartButtonEl =\n",
              "        document.querySelector('#' + key + ' button');\n",
              "      quickchartButtonEl.disabled = true;  // To prevent multiple clicks.\n",
              "      quickchartButtonEl.classList.add('colab-df-spinner');\n",
              "      try {\n",
              "        const charts = await google.colab.kernel.invokeFunction(\n",
              "            'suggestCharts', [key], {});\n",
              "      } catch (error) {\n",
              "        console.error('Error during call to suggestCharts:', error);\n",
              "      }\n",
              "      quickchartButtonEl.classList.remove('colab-df-spinner');\n",
              "      quickchartButtonEl.classList.add('colab-df-quickchart-complete');\n",
              "    }\n",
              "    (() => {\n",
              "      let quickchartButtonEl =\n",
              "        document.querySelector('#df-084d0250-9a79-4708-899a-b5dbe688cc0d button');\n",
              "      quickchartButtonEl.style.display =\n",
              "        google.colab.kernel.accessAllowed ? 'block' : 'none';\n",
              "    })();\n",
              "  </script>\n",
              "</div>\n",
              "\n",
              "    </div>\n",
              "  </div>\n"
            ]
          },
          "metadata": {},
          "execution_count": 81
        }
      ],
      "source": [
        "url = 'https://raw.githubusercontent.com/Adehwam21/animal-disease-prediction/main/animal_disease_dataset.csv'\n",
        "urlretrieve(url, 'animal_disease_dataset.csv')\n",
        "dataset = pd.read_csv('animal_disease_dataset.csv')\n",
        "dataset.head(10)"
      ]
    },
    {
      "cell_type": "markdown",
      "metadata": {
        "id": "sJAVDvDhkj9_"
      },
      "source": [
        "**EXPLORATORY DATA ANALYSIS**"
      ]
    },
    {
      "cell_type": "code",
      "execution_count": null,
      "metadata": {
        "colab": {
          "base_uri": "https://localhost:8080/"
        },
        "id": "i2QjCQx4mHjg",
        "outputId": "a0fbbb39-b7e9-492f-afe2-af1f1ecb7b8c"
      },
      "outputs": [
        {
          "output_type": "execute_result",
          "data": {
            "text/plain": [
              "(43778, 7)"
            ]
          },
          "metadata": {},
          "execution_count": 82
        }
      ],
      "source": [
        "dataset.shape"
      ]
    },
    {
      "cell_type": "code",
      "execution_count": null,
      "metadata": {
        "colab": {
          "base_uri": "https://localhost:8080/"
        },
        "id": "jxCzgng5ksWn",
        "outputId": "922a13e4-1add-45ec-9d54-163ca770cb1a"
      },
      "outputs": [
        {
          "output_type": "stream",
          "name": "stdout",
          "text": [
            "<class 'pandas.core.frame.DataFrame'>\n",
            "RangeIndex: 43778 entries, 0 to 43777\n",
            "Data columns (total 7 columns):\n",
            " #   Column       Non-Null Count  Dtype  \n",
            "---  ------       --------------  -----  \n",
            " 0   Animal       43778 non-null  object \n",
            " 1   Age          43778 non-null  int64  \n",
            " 2   Temperature  43778 non-null  float64\n",
            " 3   Symptom 1    43778 non-null  object \n",
            " 4   Symptom 2    43778 non-null  object \n",
            " 5   Symptom 3    43778 non-null  object \n",
            " 6   Disease      43778 non-null  object \n",
            "dtypes: float64(1), int64(1), object(5)\n",
            "memory usage: 2.3+ MB\n"
          ]
        }
      ],
      "source": [
        "dataset.info()"
      ]
    },
    {
      "cell_type": "code",
      "execution_count": null,
      "metadata": {
        "colab": {
          "base_uri": "https://localhost:8080/"
        },
        "id": "lRZC7IDUk_kx",
        "outputId": "04b8eed9-b301-44d1-fcbf-e168c75228ad"
      },
      "outputs": [
        {
          "output_type": "execute_result",
          "data": {
            "text/plain": [
              "Animal         False\n",
              "Age            False\n",
              "Temperature    False\n",
              "Symptom 1      False\n",
              "Symptom 2      False\n",
              "Symptom 3      False\n",
              "Disease        False\n",
              "dtype: bool"
            ]
          },
          "metadata": {},
          "execution_count": 84
        }
      ],
      "source": [
        "dataset.isna().any() #Checking for missing values"
      ]
    },
    {
      "cell_type": "code",
      "execution_count": null,
      "metadata": {
        "colab": {
          "base_uri": "https://localhost:8080/"
        },
        "id": "mQaOWe4Glne3",
        "outputId": "835dcb30-0d84-4b10-a466-c181a9455881"
      },
      "outputs": [
        {
          "output_type": "execute_result",
          "data": {
            "text/plain": [
              "False"
            ]
          },
          "metadata": {},
          "execution_count": 85
        }
      ],
      "source": [
        "dataset.duplicated().any()"
      ]
    },
    {
      "cell_type": "code",
      "execution_count": null,
      "metadata": {
        "colab": {
          "base_uri": "https://localhost:8080/",
          "height": 112
        },
        "id": "ebduPt7CsL6z",
        "outputId": "84852be0-8096-4b7e-e828-6c0841697f52"
      },
      "outputs": [
        {
          "output_type": "execute_result",
          "data": {
            "text/plain": [
              "               count        mean       std    min    25%    50%    75%    max\n",
              "Age          43778.0    6.769131  3.886739    1.0    4.0    7.0   10.0   15.0\n",
              "Temperature  43778.0  102.269590  1.400872  100.0  101.1  102.2  103.4  105.0"
            ],
            "text/html": [
              "\n",
              "  <div id=\"df-5b6870f4-a6e7-4489-bdc5-fc93a83787cb\" class=\"colab-df-container\">\n",
              "    <div>\n",
              "<style scoped>\n",
              "    .dataframe tbody tr th:only-of-type {\n",
              "        vertical-align: middle;\n",
              "    }\n",
              "\n",
              "    .dataframe tbody tr th {\n",
              "        vertical-align: top;\n",
              "    }\n",
              "\n",
              "    .dataframe thead th {\n",
              "        text-align: right;\n",
              "    }\n",
              "</style>\n",
              "<table border=\"1\" class=\"dataframe\">\n",
              "  <thead>\n",
              "    <tr style=\"text-align: right;\">\n",
              "      <th></th>\n",
              "      <th>count</th>\n",
              "      <th>mean</th>\n",
              "      <th>std</th>\n",
              "      <th>min</th>\n",
              "      <th>25%</th>\n",
              "      <th>50%</th>\n",
              "      <th>75%</th>\n",
              "      <th>max</th>\n",
              "    </tr>\n",
              "  </thead>\n",
              "  <tbody>\n",
              "    <tr>\n",
              "      <th>Age</th>\n",
              "      <td>43778.0</td>\n",
              "      <td>6.769131</td>\n",
              "      <td>3.886739</td>\n",
              "      <td>1.0</td>\n",
              "      <td>4.0</td>\n",
              "      <td>7.0</td>\n",
              "      <td>10.0</td>\n",
              "      <td>15.0</td>\n",
              "    </tr>\n",
              "    <tr>\n",
              "      <th>Temperature</th>\n",
              "      <td>43778.0</td>\n",
              "      <td>102.269590</td>\n",
              "      <td>1.400872</td>\n",
              "      <td>100.0</td>\n",
              "      <td>101.1</td>\n",
              "      <td>102.2</td>\n",
              "      <td>103.4</td>\n",
              "      <td>105.0</td>\n",
              "    </tr>\n",
              "  </tbody>\n",
              "</table>\n",
              "</div>\n",
              "    <div class=\"colab-df-buttons\">\n",
              "\n",
              "  <div class=\"colab-df-container\">\n",
              "    <button class=\"colab-df-convert\" onclick=\"convertToInteractive('df-5b6870f4-a6e7-4489-bdc5-fc93a83787cb')\"\n",
              "            title=\"Convert this dataframe to an interactive table.\"\n",
              "            style=\"display:none;\">\n",
              "\n",
              "  <svg xmlns=\"http://www.w3.org/2000/svg\" height=\"24px\" viewBox=\"0 -960 960 960\">\n",
              "    <path d=\"M120-120v-720h720v720H120Zm60-500h600v-160H180v160Zm220 220h160v-160H400v160Zm0 220h160v-160H400v160ZM180-400h160v-160H180v160Zm440 0h160v-160H620v160ZM180-180h160v-160H180v160Zm440 0h160v-160H620v160Z\"/>\n",
              "  </svg>\n",
              "    </button>\n",
              "\n",
              "  <style>\n",
              "    .colab-df-container {\n",
              "      display:flex;\n",
              "      gap: 12px;\n",
              "    }\n",
              "\n",
              "    .colab-df-convert {\n",
              "      background-color: #E8F0FE;\n",
              "      border: none;\n",
              "      border-radius: 50%;\n",
              "      cursor: pointer;\n",
              "      display: none;\n",
              "      fill: #1967D2;\n",
              "      height: 32px;\n",
              "      padding: 0 0 0 0;\n",
              "      width: 32px;\n",
              "    }\n",
              "\n",
              "    .colab-df-convert:hover {\n",
              "      background-color: #E2EBFA;\n",
              "      box-shadow: 0px 1px 2px rgba(60, 64, 67, 0.3), 0px 1px 3px 1px rgba(60, 64, 67, 0.15);\n",
              "      fill: #174EA6;\n",
              "    }\n",
              "\n",
              "    .colab-df-buttons div {\n",
              "      margin-bottom: 4px;\n",
              "    }\n",
              "\n",
              "    [theme=dark] .colab-df-convert {\n",
              "      background-color: #3B4455;\n",
              "      fill: #D2E3FC;\n",
              "    }\n",
              "\n",
              "    [theme=dark] .colab-df-convert:hover {\n",
              "      background-color: #434B5C;\n",
              "      box-shadow: 0px 1px 3px 1px rgba(0, 0, 0, 0.15);\n",
              "      filter: drop-shadow(0px 1px 2px rgba(0, 0, 0, 0.3));\n",
              "      fill: #FFFFFF;\n",
              "    }\n",
              "  </style>\n",
              "\n",
              "    <script>\n",
              "      const buttonEl =\n",
              "        document.querySelector('#df-5b6870f4-a6e7-4489-bdc5-fc93a83787cb button.colab-df-convert');\n",
              "      buttonEl.style.display =\n",
              "        google.colab.kernel.accessAllowed ? 'block' : 'none';\n",
              "\n",
              "      async function convertToInteractive(key) {\n",
              "        const element = document.querySelector('#df-5b6870f4-a6e7-4489-bdc5-fc93a83787cb');\n",
              "        const dataTable =\n",
              "          await google.colab.kernel.invokeFunction('convertToInteractive',\n",
              "                                                    [key], {});\n",
              "        if (!dataTable) return;\n",
              "\n",
              "        const docLinkHtml = 'Like what you see? Visit the ' +\n",
              "          '<a target=\"_blank\" href=https://colab.research.google.com/notebooks/data_table.ipynb>data table notebook</a>'\n",
              "          + ' to learn more about interactive tables.';\n",
              "        element.innerHTML = '';\n",
              "        dataTable['output_type'] = 'display_data';\n",
              "        await google.colab.output.renderOutput(dataTable, element);\n",
              "        const docLink = document.createElement('div');\n",
              "        docLink.innerHTML = docLinkHtml;\n",
              "        element.appendChild(docLink);\n",
              "      }\n",
              "    </script>\n",
              "  </div>\n",
              "\n",
              "\n",
              "<div id=\"df-9a2c73d7-4c1e-4cc9-917c-23e2f94dea9b\">\n",
              "  <button class=\"colab-df-quickchart\" onclick=\"quickchart('df-9a2c73d7-4c1e-4cc9-917c-23e2f94dea9b')\"\n",
              "            title=\"Suggest charts\"\n",
              "            style=\"display:none;\">\n",
              "\n",
              "<svg xmlns=\"http://www.w3.org/2000/svg\" height=\"24px\"viewBox=\"0 0 24 24\"\n",
              "     width=\"24px\">\n",
              "    <g>\n",
              "        <path d=\"M19 3H5c-1.1 0-2 .9-2 2v14c0 1.1.9 2 2 2h14c1.1 0 2-.9 2-2V5c0-1.1-.9-2-2-2zM9 17H7v-7h2v7zm4 0h-2V7h2v10zm4 0h-2v-4h2v4z\"/>\n",
              "    </g>\n",
              "</svg>\n",
              "  </button>\n",
              "\n",
              "<style>\n",
              "  .colab-df-quickchart {\n",
              "      --bg-color: #E8F0FE;\n",
              "      --fill-color: #1967D2;\n",
              "      --hover-bg-color: #E2EBFA;\n",
              "      --hover-fill-color: #174EA6;\n",
              "      --disabled-fill-color: #AAA;\n",
              "      --disabled-bg-color: #DDD;\n",
              "  }\n",
              "\n",
              "  [theme=dark] .colab-df-quickchart {\n",
              "      --bg-color: #3B4455;\n",
              "      --fill-color: #D2E3FC;\n",
              "      --hover-bg-color: #434B5C;\n",
              "      --hover-fill-color: #FFFFFF;\n",
              "      --disabled-bg-color: #3B4455;\n",
              "      --disabled-fill-color: #666;\n",
              "  }\n",
              "\n",
              "  .colab-df-quickchart {\n",
              "    background-color: var(--bg-color);\n",
              "    border: none;\n",
              "    border-radius: 50%;\n",
              "    cursor: pointer;\n",
              "    display: none;\n",
              "    fill: var(--fill-color);\n",
              "    height: 32px;\n",
              "    padding: 0;\n",
              "    width: 32px;\n",
              "  }\n",
              "\n",
              "  .colab-df-quickchart:hover {\n",
              "    background-color: var(--hover-bg-color);\n",
              "    box-shadow: 0 1px 2px rgba(60, 64, 67, 0.3), 0 1px 3px 1px rgba(60, 64, 67, 0.15);\n",
              "    fill: var(--button-hover-fill-color);\n",
              "  }\n",
              "\n",
              "  .colab-df-quickchart-complete:disabled,\n",
              "  .colab-df-quickchart-complete:disabled:hover {\n",
              "    background-color: var(--disabled-bg-color);\n",
              "    fill: var(--disabled-fill-color);\n",
              "    box-shadow: none;\n",
              "  }\n",
              "\n",
              "  .colab-df-spinner {\n",
              "    border: 2px solid var(--fill-color);\n",
              "    border-color: transparent;\n",
              "    border-bottom-color: var(--fill-color);\n",
              "    animation:\n",
              "      spin 1s steps(1) infinite;\n",
              "  }\n",
              "\n",
              "  @keyframes spin {\n",
              "    0% {\n",
              "      border-color: transparent;\n",
              "      border-bottom-color: var(--fill-color);\n",
              "      border-left-color: var(--fill-color);\n",
              "    }\n",
              "    20% {\n",
              "      border-color: transparent;\n",
              "      border-left-color: var(--fill-color);\n",
              "      border-top-color: var(--fill-color);\n",
              "    }\n",
              "    30% {\n",
              "      border-color: transparent;\n",
              "      border-left-color: var(--fill-color);\n",
              "      border-top-color: var(--fill-color);\n",
              "      border-right-color: var(--fill-color);\n",
              "    }\n",
              "    40% {\n",
              "      border-color: transparent;\n",
              "      border-right-color: var(--fill-color);\n",
              "      border-top-color: var(--fill-color);\n",
              "    }\n",
              "    60% {\n",
              "      border-color: transparent;\n",
              "      border-right-color: var(--fill-color);\n",
              "    }\n",
              "    80% {\n",
              "      border-color: transparent;\n",
              "      border-right-color: var(--fill-color);\n",
              "      border-bottom-color: var(--fill-color);\n",
              "    }\n",
              "    90% {\n",
              "      border-color: transparent;\n",
              "      border-bottom-color: var(--fill-color);\n",
              "    }\n",
              "  }\n",
              "</style>\n",
              "\n",
              "  <script>\n",
              "    async function quickchart(key) {\n",
              "      const quickchartButtonEl =\n",
              "        document.querySelector('#' + key + ' button');\n",
              "      quickchartButtonEl.disabled = true;  // To prevent multiple clicks.\n",
              "      quickchartButtonEl.classList.add('colab-df-spinner');\n",
              "      try {\n",
              "        const charts = await google.colab.kernel.invokeFunction(\n",
              "            'suggestCharts', [key], {});\n",
              "      } catch (error) {\n",
              "        console.error('Error during call to suggestCharts:', error);\n",
              "      }\n",
              "      quickchartButtonEl.classList.remove('colab-df-spinner');\n",
              "      quickchartButtonEl.classList.add('colab-df-quickchart-complete');\n",
              "    }\n",
              "    (() => {\n",
              "      let quickchartButtonEl =\n",
              "        document.querySelector('#df-9a2c73d7-4c1e-4cc9-917c-23e2f94dea9b button');\n",
              "      quickchartButtonEl.style.display =\n",
              "        google.colab.kernel.accessAllowed ? 'block' : 'none';\n",
              "    })();\n",
              "  </script>\n",
              "</div>\n",
              "\n",
              "    </div>\n",
              "  </div>\n"
            ]
          },
          "metadata": {},
          "execution_count": 86
        }
      ],
      "source": [
        "dataset.describe().T\n",
        "\n",
        "# Temperature is measured in Fahrenheit"
      ]
    },
    {
      "cell_type": "markdown",
      "metadata": {
        "id": "2qUdoRXr6V2k"
      },
      "source": [
        "*Visualizing the dataset*"
      ]
    },
    {
      "cell_type": "code",
      "execution_count": null,
      "metadata": {
        "id": "VBWDxlUjsjGH"
      },
      "outputs": [],
      "source": [
        "import matplotlib.pyplot as plt\n",
        "import seaborn as sns\n",
        "import numpy as np"
      ]
    },
    {
      "cell_type": "code",
      "execution_count": null,
      "metadata": {
        "colab": {
          "base_uri": "https://localhost:8080/",
          "height": 466
        },
        "id": "y2shdUfusOBh",
        "outputId": "83eba2e7-bb84-4563-a1fb-766abaf6793a"
      },
      "outputs": [
        {
          "output_type": "execute_result",
          "data": {
            "text/plain": [
              "<Axes: xlabel='Age', ylabel='count'>"
            ]
          },
          "metadata": {},
          "execution_count": 88
        },
        {
          "output_type": "display_data",
          "data": {
            "text/plain": [
              "<Figure size 640x480 with 1 Axes>"
            ],
            "image/png": "[encoded data removed]"
          },
          "metadata": {}
        }
      ],
      "source": [
        "sns.countplot(x= 'Age', data=dataset, palette='viridis')"
      ]
    },
    {
      "cell_type": "code",
      "execution_count": null,
      "metadata": {
        "colab": {
          "base_uri": "https://localhost:8080/",
          "height": 466
        },
        "id": "W2sL8UhH3zGe",
        "outputId": "f146610d-3118-4cf1-b62d-6b92e6a9cfd1"
      },
      "outputs": [
        {
          "output_type": "execute_result",
          "data": {
            "text/plain": [
              "<Axes: xlabel='Animal', ylabel='count'>"
            ]
          },
          "metadata": {},
          "execution_count": 89
        },
        {
          "output_type": "display_data",
          "data": {
            "text/plain": [
              "<Figure size 640x480 with 1 Axes>"
            ],
            "image/png": "[encoded data removed]"
          },
          "metadata": {}
        }
      ],
      "source": [
        "sns.countplot(x= 'Animal', data=dataset, palette='viridis')"
      ]
    },
    {
      "cell_type": "code",
      "execution_count": null,
      "metadata": {
        "colab": {
          "base_uri": "https://localhost:8080/",
          "height": 466
        },
        "id": "ntrBNuQZxZ0y",
        "outputId": "572a0417-115e-4afc-e8a0-26286c76ddd9"
      },
      "outputs": [
        {
          "output_type": "execute_result",
          "data": {
            "text/plain": [
              "<Axes: xlabel='Disease', ylabel='count'>"
            ]
          },
          "metadata": {},
          "execution_count": 90
        },
        {
          "output_type": "display_data",
          "data": {
            "text/plain": [
              "<Figure size 640x480 with 1 Axes>"
            ],
            "image/png": "[encoded data removed]"
          },
          "metadata": {}
        }
      ],
      "source": [
        "sns.countplot(x= 'Disease', data=dataset, palette='viridis')"
      ]
    },
    {
      "cell_type": "code",
      "execution_count": null,
      "metadata": {
        "colab": {
          "base_uri": "https://localhost:8080/",
          "height": 466
        },
        "id": "sLI1vaH5S9nA",
        "outputId": "24ff7d80-48fa-4f82-a3d8-a7a28b4285d4"
      },
      "outputs": [
        {
          "output_type": "execute_result",
          "data": {
            "text/plain": [
              "<Axes: xlabel='Disease', ylabel='Age'>"
            ]
          },
          "metadata": {},
          "execution_count": 91
        },
        {
          "output_type": "display_data",
          "data": {
            "text/plain": [
              "<Figure size 640x480 with 1 Axes>"
            ],
            "image/png": "[encoded data removed]"
          },
          "metadata": {}
        }
      ],
      "source": [
        "sns.boxplot(x=\"Disease\", y=\"Age\", data=dataset, palette=\"viridis\")"
      ]
    },
    {
      "cell_type": "code",
      "execution_count": null,
      "metadata": {
        "colab": {
          "base_uri": "https://localhost:8080/",
          "height": 466
        },
        "id": "o2CGxGuGUgTu",
        "outputId": "87bd6b81-2eaf-4b44-9738-1531da309708"
      },
      "outputs": [
        {
          "output_type": "execute_result",
          "data": {
            "text/plain": [
              "<Axes: xlabel='Disease', ylabel='Temperature'>"
            ]
          },
          "metadata": {},
          "execution_count": 92
        },
        {
          "output_type": "display_data",
          "data": {
            "text/plain": [
              "<Figure size 640x480 with 1 Axes>"
            ],
            "image/png": "[encoded data removed]"
          },
          "metadata": {}
        }
      ],
      "source": [
        "sns.boxplot(x=\"Disease\", y=\"Temperature\", data=dataset, palette=\"viridis\")"
      ]
    },
    {
      "cell_type": "markdown",
      "metadata": {
        "id": "8BQ3KQlm6ixY"
      },
      "source": [
        "**FEATURE ENGINEERING**"
      ]
    },
    {
      "cell_type": "code",
      "execution_count": null,
      "metadata": {
        "colab": {
          "base_uri": "https://localhost:8080/",
          "height": 424
        },
        "id": "fdkxL7Pkl3UR",
        "outputId": "85e94d9f-5062-4cc3-c685-8c0c6867b05f"
      },
      "outputs": [
        {
          "output_type": "execute_result",
          "data": {
            "text/plain": [
              "        Animal  Age  Temperature                Symptom 1         Symptom 2  \\\n",
              "0          cow    3        103.1               depression    painless lumps   \n",
              "1      buffalo   13        104.5           painless lumps  loss of appetite   \n",
              "2        sheep    1        100.5               depression    painless lumps   \n",
              "3          cow   14        100.3         loss of appetite  swelling in limb   \n",
              "4        sheep    2        103.6           painless lumps  loss of appetite   \n",
              "...        ...  ...          ...                      ...               ...   \n",
              "43773     goat    9        102.2       swelling in muscle          lameness   \n",
              "43774  buffalo    3        101.8         loss of appetite    sores on mouth   \n",
              "43775  buffalo   15        104.1  swelling in extremities            chills   \n",
              "43776      cow    9        104.9          crackling sound          lameness   \n",
              "43777  buffalo    4        103.5       difficulty walking     sores on gums   \n",
              "\n",
              "                 Symptom 3         Disease  \n",
              "0         loss of appetite       pneumonia  \n",
              "1               depression     lumpy virus  \n",
              "2         loss of appetite     lumpy virus  \n",
              "3          crackling sound        blackleg  \n",
              "4               depression       pneumonia  \n",
              "...                    ...             ...  \n",
              "43773      crackling sound        blackleg  \n",
              "43774   difficulty walking  foot and mouth  \n",
              "43775  shortness of breath         anthrax  \n",
              "43776   swelling in muscle        blackleg  \n",
              "43777     loss of appetite  foot and mouth  \n",
              "\n",
              "[43778 rows x 7 columns]"
            ],
            "text/html": [
              "\n",
              "  <div id=\"df-ca053df6-ba38-49ce-8e73-e0e0fdce63b7\" class=\"colab-df-container\">\n",
              "    <div>\n",
              "<style scoped>\n",
              "    .dataframe tbody tr th:only-of-type {\n",
              "        vertical-align: middle;\n",
              "    }\n",
              "\n",
              "    .dataframe tbody tr th {\n",
              "        vertical-align: top;\n",
              "    }\n",
              "\n",
              "    .dataframe thead th {\n",
              "        text-align: right;\n",
              "    }\n",
              "</style>\n",
              "<table border=\"1\" class=\"dataframe\">\n",
              "  <thead>\n",
              "    <tr style=\"text-align: right;\">\n",
              "      <th></th>\n",
              "      <th>Animal</th>\n",
              "      <th>Age</th>\n",
              "      <th>Temperature</th>\n",
              "      <th>Symptom 1</th>\n",
              "      <th>Symptom 2</th>\n",
              "      <th>Symptom 3</th>\n",
              "      <th>Disease</th>\n",
              "    </tr>\n",
              "  </thead>\n",
              "  <tbody>\n",
              "    <tr>\n",
              "      <th>0</th>\n",
              "      <td>cow</td>\n",
              "      <td>3</td>\n",
              "      <td>103.1</td>\n",
              "      <td>depression</td>\n",
              "      <td>painless lumps</td>\n",
              "      <td>loss of appetite</td>\n",
              "      <td>pneumonia</td>\n",
              "    </tr>\n",
              "    <tr>\n",
              "      <th>1</th>\n",
              "      <td>buffalo</td>\n",
              "      <td>13</td>\n",
              "      <td>104.5</td>\n",
              "      <td>painless lumps</td>\n",
              "      <td>loss of appetite</td>\n",
              "      <td>depression</td>\n",
              "      <td>lumpy virus</td>\n",
              "    </tr>\n",
              "    <tr>\n",
              "      <th>2</th>\n",
              "      <td>sheep</td>\n",
              "      <td>1</td>\n",
              "      <td>100.5</td>\n",
              "      <td>depression</td>\n",
              "      <td>painless lumps</td>\n",
              "      <td>loss of appetite</td>\n",
              "      <td>lumpy virus</td>\n",
              "    </tr>\n",
              "    <tr>\n",
              "      <th>3</th>\n",
              "      <td>cow</td>\n",
              "      <td>14</td>\n",
              "      <td>100.3</td>\n",
              "      <td>loss of appetite</td>\n",
              "      <td>swelling in limb</td>\n",
              "      <td>crackling sound</td>\n",
              "      <td>blackleg</td>\n",
              "    </tr>\n",
              "    <tr>\n",
              "      <th>4</th>\n",
              "      <td>sheep</td>\n",
              "      <td>2</td>\n",
              "      <td>103.6</td>\n",
              "      <td>painless lumps</td>\n",
              "      <td>loss of appetite</td>\n",
              "      <td>depression</td>\n",
              "      <td>pneumonia</td>\n",
              "    </tr>\n",
              "    <tr>\n",
              "      <th>...</th>\n",
              "      <td>...</td>\n",
              "      <td>...</td>\n",
              "      <td>...</td>\n",
              "      <td>...</td>\n",
              "      <td>...</td>\n",
              "      <td>...</td>\n",
              "      <td>...</td>\n",
              "    </tr>\n",
              "    <tr>\n",
              "      <th>43773</th>\n",
              "      <td>goat</td>\n",
              "      <td>9</td>\n",
              "      <td>102.2</td>\n",
              "      <td>swelling in muscle</td>\n",
              "      <td>lameness</td>\n",
              "      <td>crackling sound</td>\n",
              "      <td>blackleg</td>\n",
              "    </tr>\n",
              "    <tr>\n",
              "      <th>43774</th>\n",
              "      <td>buffalo</td>\n",
              "      <td>3</td>\n",
              "      <td>101.8</td>\n",
              "      <td>loss of appetite</td>\n",
              "      <td>sores on mouth</td>\n",
              "      <td>difficulty walking</td>\n",
              "      <td>foot and mouth</td>\n",
              "    </tr>\n",
              "    <tr>\n",
              "      <th>43775</th>\n",
              "      <td>buffalo</td>\n",
              "      <td>15</td>\n",
              "      <td>104.1</td>\n",
              "      <td>swelling in extremities</td>\n",
              "      <td>chills</td>\n",
              "      <td>shortness of breath</td>\n",
              "      <td>anthrax</td>\n",
              "    </tr>\n",
              "    <tr>\n",
              "      <th>43776</th>\n",
              "      <td>cow</td>\n",
              "      <td>9</td>\n",
              "      <td>104.9</td>\n",
              "      <td>crackling sound</td>\n",
              "      <td>lameness</td>\n",
              "      <td>swelling in muscle</td>\n",
              "      <td>blackleg</td>\n",
              "    </tr>\n",
              "    <tr>\n",
              "      <th>43777</th>\n",
              "      <td>buffalo</td>\n",
              "      <td>4</td>\n",
              "      <td>103.5</td>\n",
              "      <td>difficulty walking</td>\n",
              "      <td>sores on gums</td>\n",
              "      <td>loss of appetite</td>\n",
              "      <td>foot and mouth</td>\n",
              "    </tr>\n",
              "  </tbody>\n",
              "</table>\n",
              "<p>43778 rows × 7 columns</p>\n",
              "</div>\n",
              "    <div class=\"colab-df-buttons\">\n",
              "\n",
              "  <div class=\"colab-df-container\">\n",
              "    <button class=\"colab-df-convert\" onclick=\"convertToInteractive('df-ca053df6-ba38-49ce-8e73-e0e0fdce63b7')\"\n",
              "            title=\"Convert this dataframe to an interactive table.\"\n",
              "            style=\"display:none;\">\n",
              "\n",
              "  <svg xmlns=\"http://www.w3.org/2000/svg\" height=\"24px\" viewBox=\"0 -960 960 960\">\n",
              "    <path d=\"M120-120v-720h720v720H120Zm60-500h600v-160H180v160Zm220 220h160v-160H400v160Zm0 220h160v-160H400v160ZM180-400h160v-160H180v160Zm440 0h160v-160H620v160ZM180-180h160v-160H180v160Zm440 0h160v-160H620v160Z\"/>\n",
              "  </svg>\n",
              "    </button>\n",
              "\n",
              "  <style>\n",
              "    .colab-df-container {\n",
              "      display:flex;\n",
              "      gap: 12px;\n",
              "    }\n",
              "\n",
              "    .colab-df-convert {\n",
              "      background-color: #E8F0FE;\n",
              "      border: none;\n",
              "      border-radius: 50%;\n",
              "      cursor: pointer;\n",
              "      display: none;\n",
              "      fill: #1967D2;\n",
              "      height: 32px;\n",
              "      padding: 0 0 0 0;\n",
              "      width: 32px;\n",
              "    }\n",
              "\n",
              "    .colab-df-convert:hover {\n",
              "      background-color: #E2EBFA;\n",
              "      box-shadow: 0px 1px 2px rgba(60, 64, 67, 0.3), 0px 1px 3px 1px rgba(60, 64, 67, 0.15);\n",
              "      fill: #174EA6;\n",
              "    }\n",
              "\n",
              "    .colab-df-buttons div {\n",
              "      margin-bottom: 4px;\n",
              "    }\n",
              "\n",
              "    [theme=dark] .colab-df-convert {\n",
              "      background-color: #3B4455;\n",
              "      fill: #D2E3FC;\n",
              "    }\n",
              "\n",
              "    [theme=dark] .colab-df-convert:hover {\n",
              "      background-color: #434B5C;\n",
              "      box-shadow: 0px 1px 3px 1px rgba(0, 0, 0, 0.15);\n",
              "      filter: drop-shadow(0px 1px 2px rgba(0, 0, 0, 0.3));\n",
              "      fill: #FFFFFF;\n",
              "    }\n",
              "  </style>\n",
              "\n",
              "    <script>\n",
              "      const buttonEl =\n",
              "        document.querySelector('#df-ca053df6-ba38-49ce-8e73-e0e0fdce63b7 button.colab-df-convert');\n",
              "      buttonEl.style.display =\n",
              "        google.colab.kernel.accessAllowed ? 'block' : 'none';\n",
              "\n",
              "      async function convertToInteractive(key) {\n",
              "        const element = document.querySelector('#df-ca053df6-ba38-49ce-8e73-e0e0fdce63b7');\n",
              "        const dataTable =\n",
              "          await google.colab.kernel.invokeFunction('convertToInteractive',\n",
              "                                                    [key], {});\n",
              "        if (!dataTable) return;\n",
              "\n",
              "        const docLinkHtml = 'Like what you see? Visit the ' +\n",
              "          '<a target=\"_blank\" href=https://colab.research.google.com/notebooks/data_table.ipynb>data table notebook</a>'\n",
              "          + ' to learn more about interactive tables.';\n",
              "        element.innerHTML = '';\n",
              "        dataTable['output_type'] = 'display_data';\n",
              "        await google.colab.output.renderOutput(dataTable, element);\n",
              "        const docLink = document.createElement('div');\n",
              "        docLink.innerHTML = docLinkHtml;\n",
              "        element.appendChild(docLink);\n",
              "      }\n",
              "    </script>\n",
              "  </div>\n",
              "\n",
              "\n",
              "<div id=\"df-9b6d7594-f6cc-4ec8-8c02-f9443ec7ccad\">\n",
              "  <button class=\"colab-df-quickchart\" onclick=\"quickchart('df-9b6d7594-f6cc-4ec8-8c02-f9443ec7ccad')\"\n",
              "            title=\"Suggest charts\"\n",
              "            style=\"display:none;\">\n",
              "\n",
              "<svg xmlns=\"http://www.w3.org/2000/svg\" height=\"24px\"viewBox=\"0 0 24 24\"\n",
              "     width=\"24px\">\n",
              "    <g>\n",
              "        <path d=\"M19 3H5c-1.1 0-2 .9-2 2v14c0 1.1.9 2 2 2h14c1.1 0 2-.9 2-2V5c0-1.1-.9-2-2-2zM9 17H7v-7h2v7zm4 0h-2V7h2v10zm4 0h-2v-4h2v4z\"/>\n",
              "    </g>\n",
              "</svg>\n",
              "  </button>\n",
              "\n",
              "<style>\n",
              "  .colab-df-quickchart {\n",
              "      --bg-color: #E8F0FE;\n",
              "      --fill-color: #1967D2;\n",
              "      --hover-bg-color: #E2EBFA;\n",
              "      --hover-fill-color: #174EA6;\n",
              "      --disabled-fill-color: #AAA;\n",
              "      --disabled-bg-color: #DDD;\n",
              "  }\n",
              "\n",
              "  [theme=dark] .colab-df-quickchart {\n",
              "      --bg-color: #3B4455;\n",
              "      --fill-color: #D2E3FC;\n",
              "      --hover-bg-color: #434B5C;\n",
              "      --hover-fill-color: #FFFFFF;\n",
              "      --disabled-bg-color: #3B4455;\n",
              "      --disabled-fill-color: #666;\n",
              "  }\n",
              "\n",
              "  .colab-df-quickchart {\n",
              "    background-color: var(--bg-color);\n",
              "    border: none;\n",
              "    border-radius: 50%;\n",
              "    cursor: pointer;\n",
              "    display: none;\n",
              "    fill: var(--fill-color);\n",
              "    height: 32px;\n",
              "    padding: 0;\n",
              "    width: 32px;\n",
              "  }\n",
              "\n",
              "  .colab-df-quickchart:hover {\n",
              "    background-color: var(--hover-bg-color);\n",
              "    box-shadow: 0 1px 2px rgba(60, 64, 67, 0.3), 0 1px 3px 1px rgba(60, 64, 67, 0.15);\n",
              "    fill: var(--button-hover-fill-color);\n",
              "  }\n",
              "\n",
              "  .colab-df-quickchart-complete:disabled,\n",
              "  .colab-df-quickchart-complete:disabled:hover {\n",
              "    background-color: var(--disabled-bg-color);\n",
              "    fill: var(--disabled-fill-color);\n",
              "    box-shadow: none;\n",
              "  }\n",
              "\n",
              "  .colab-df-spinner {\n",
              "    border: 2px solid var(--fill-color);\n",
              "    border-color: transparent;\n",
              "    border-bottom-color: var(--fill-color);\n",
              "    animation:\n",
              "      spin 1s steps(1) infinite;\n",
              "  }\n",
              "\n",
              "  @keyframes spin {\n",
              "    0% {\n",
              "      border-color: transparent;\n",
              "      border-bottom-color: var(--fill-color);\n",
              "      border-left-color: var(--fill-color);\n",
              "    }\n",
              "    20% {\n",
              "      border-color: transparent;\n",
              "      border-left-color: var(--fill-color);\n",
              "      border-top-color: var(--fill-color);\n",
              "    }\n",
              "    30% {\n",
              "      border-color: transparent;\n",
              "      border-left-color: var(--fill-color);\n",
              "      border-top-color: var(--fill-color);\n",
              "      border-right-color: var(--fill-color);\n",
              "    }\n",
              "    40% {\n",
              "      border-color: transparent;\n",
              "      border-right-color: var(--fill-color);\n",
              "      border-top-color: var(--fill-color);\n",
              "    }\n",
              "    60% {\n",
              "      border-color: transparent;\n",
              "      border-right-color: var(--fill-color);\n",
              "    }\n",
              "    80% {\n",
              "      border-color: transparent;\n",
              "      border-right-color: var(--fill-color);\n",
              "      border-bottom-color: var(--fill-color);\n",
              "    }\n",
              "    90% {\n",
              "      border-color: transparent;\n",
              "      border-bottom-color: var(--fill-color);\n",
              "    }\n",
              "  }\n",
              "</style>\n",
              "\n",
              "  <script>\n",
              "    async function quickchart(key) {\n",
              "      const quickchartButtonEl =\n",
              "        document.querySelector('#' + key + ' button');\n",
              "      quickchartButtonEl.disabled = true;  // To prevent multiple clicks.\n",
              "      quickchartButtonEl.classList.add('colab-df-spinner');\n",
              "      try {\n",
              "        const charts = await google.colab.kernel.invokeFunction(\n",
              "            'suggestCharts', [key], {});\n",
              "      } catch (error) {\n",
              "        console.error('Error during call to suggestCharts:', error);\n",
              "      }\n",
              "      quickchartButtonEl.classList.remove('colab-df-spinner');\n",
              "      quickchartButtonEl.classList.add('colab-df-quickchart-complete');\n",
              "    }\n",
              "    (() => {\n",
              "      let quickchartButtonEl =\n",
              "        document.querySelector('#df-9b6d7594-f6cc-4ec8-8c02-f9443ec7ccad button');\n",
              "      quickchartButtonEl.style.display =\n",
              "        google.colab.kernel.accessAllowed ? 'block' : 'none';\n",
              "    })();\n",
              "  </script>\n",
              "</div>\n",
              "\n",
              "  <div id=\"id_b876684d-2435-42f7-8222-35768f5621e0\">\n",
              "    <style>\n",
              "      .colab-df-generate {\n",
              "        background-color: #E8F0FE;\n",
              "        border: none;\n",
              "        border-radius: 50%;\n",
              "        cursor: pointer;\n",
              "        display: none;\n",
              "        fill: #1967D2;\n",
              "        height: 32px;\n",
              "        padding: 0 0 0 0;\n",
              "        width: 32px;\n",
              "      }\n",
              "\n",
              "      .colab-df-generate:hover {\n",
              "        background-color: #E2EBFA;\n",
              "        box-shadow: 0px 1px 2px rgba(60, 64, 67, 0.3), 0px 1px 3px 1px rgba(60, 64, 67, 0.15);\n",
              "        fill: #174EA6;\n",
              "      }\n",
              "\n",
              "      [theme=dark] .colab-df-generate {\n",
              "        background-color: #3B4455;\n",
              "        fill: #D2E3FC;\n",
              "      }\n",
              "\n",
              "      [theme=dark] .colab-df-generate:hover {\n",
              "        background-color: #434B5C;\n",
              "        box-shadow: 0px 1px 3px 1px rgba(0, 0, 0, 0.15);\n",
              "        filter: drop-shadow(0px 1px 2px rgba(0, 0, 0, 0.3));\n",
              "        fill: #FFFFFF;\n",
              "      }\n",
              "    </style>\n",
              "    <button class=\"colab-df-generate\" onclick=\"generateWithVariable('dataset')\"\n",
              "            title=\"Generate code using this dataframe.\"\n",
              "            style=\"display:none;\">\n",
              "\n",
              "  <svg xmlns=\"http://www.w3.org/2000/svg\" height=\"24px\"viewBox=\"0 0 24 24\"\n",
              "       width=\"24px\">\n",
              "    <path d=\"M7,19H8.4L18.45,9,17,7.55,7,17.6ZM5,21V16.75L18.45,3.32a2,2,0,0,1,2.83,0l1.4,1.43a1.91,1.91,0,0,1,.58,1.4,1.91,1.91,0,0,1-.58,1.4L9.25,21ZM18.45,9,17,7.55Zm-12,3A5.31,5.31,0,0,0,4.9,8.1,5.31,5.31,0,0,0,1,6.5,5.31,5.31,0,0,0,4.9,4.9,5.31,5.31,0,0,0,6.5,1,5.31,5.31,0,0,0,8.1,4.9,5.31,5.31,0,0,0,12,6.5,5.46,5.46,0,0,0,6.5,12Z\"/>\n",
              "  </svg>\n",
              "    </button>\n",
              "    <script>\n",
              "      (() => {\n",
              "      const buttonEl =\n",
              "        document.querySelector('#id_b876684d-2435-42f7-8222-35768f5621e0 button.colab-df-generate');\n",
              "      buttonEl.style.display =\n",
              "        google.colab.kernel.accessAllowed ? 'block' : 'none';\n",
              "\n",
              "      buttonEl.onclick = () => {\n",
              "        google.colab.notebook.generateWithVariable('dataset');\n",
              "      }\n",
              "      })();\n",
              "    </script>\n",
              "  </div>\n",
              "\n",
              "    </div>\n",
              "  </div>\n"
            ]
          },
          "metadata": {},
          "execution_count": 93
        }
      ],
      "source": [
        "dataset"
      ]
    },
    {
      "cell_type": "code",
      "execution_count": null,
      "metadata": {
        "colab": {
          "base_uri": "https://localhost:8080/"
        },
        "id": "avyRR7Nq6h-1",
        "outputId": "e7cacf92-27de-485c-842a-bbea906a25b9"
      },
      "outputs": [
        {
          "output_type": "stream",
          "name": "stdout",
          "text": [
            "['cow' 'buffalo' 'sheep' 'goat'] \n",
            " number of animals = 4\n"
          ]
        }
      ],
      "source": [
        "all_animals = dataset['Animal'].unique()\n",
        "print(f'{all_animals} \\n number of animals = {len(all_animals)}')"
      ]
    },
    {
      "cell_type": "code",
      "execution_count": null,
      "metadata": {
        "colab": {
          "base_uri": "https://localhost:8080/"
        },
        "id": "mmNkvzlk7Kex",
        "outputId": "2c6f8655-df07-4ac6-9c49-dd615baf5e8c"
      },
      "outputs": [
        {
          "output_type": "stream",
          "name": "stdout",
          "text": [
            "['pneumonia' 'lumpy virus' 'blackleg' 'foot and mouth' 'anthrax']\n",
            " number of diseases = 5\n"
          ]
        }
      ],
      "source": [
        "all_disease = dataset['Disease'].unique()\n",
        "print(f'{all_disease}\\n number of diseases = {len(all_disease)}')"
      ]
    },
    {
      "cell_type": "code",
      "execution_count": null,
      "metadata": {
        "colab": {
          "base_uri": "https://localhost:8080/"
        },
        "id": "8yR3J08R7syR",
        "outputId": "c5ed9be6-4302-42d8-e236-65188615e2a0"
      },
      "outputs": [
        {
          "output_type": "stream",
          "name": "stdout",
          "text": [
            " Symptom 1 = ['blisters on gums' 'blisters on hooves' 'blisters on mouth'\n",
            " 'blisters on tongue' 'chest discomfort' 'chills' 'crackling sound'\n",
            " 'depression' 'difficulty walking' 'fatigue' 'lameness' 'loss of appetite'\n",
            " 'painless lumps' 'shortness of breath' 'sores on gums' 'sores on hooves'\n",
            " 'sores on mouth' 'sores on tongue' 'sweats' 'swelling in abdomen'\n",
            " 'swelling in extremities' 'swelling in limb' 'swelling in muscle'\n",
            " 'swelling in neck']\n",
            "\n",
            " Total = 24 \n",
            "\n",
            " Symptom 2 = ['blisters on gums' 'blisters on hooves' 'blisters on mouth'\n",
            " 'blisters on tongue' 'chest discomfort' 'chills' 'crackling sound'\n",
            " 'depression' 'difficulty walking' 'fatigue' 'lameness' 'loss of appetite'\n",
            " 'painless lumps' 'shortness of breath' 'sores on gums' 'sores on hooves'\n",
            " 'sores on mouth' 'sores on tongue' 'sweats' 'swelling in abdomen'\n",
            " 'swelling in extremities' 'swelling in limb' 'swelling in muscle'\n",
            " 'swelling in neck']\n",
            "\n",
            " Total = 24 \n",
            "\n",
            " Symptom 3 = ['blisters on gums' 'blisters on hooves' 'blisters on mouth'\n",
            " 'blisters on tongue' 'chest discomfort' 'chills' 'crackling sound'\n",
            " 'depression' 'difficulty walking' 'fatigue' 'lameness' 'loss of appetite'\n",
            " 'painless lumps' 'shortness of breath' 'sores on gums' 'sores on hooves'\n",
            " 'sores on mouth' 'sores on tongue' 'sweats' 'swelling in abdomen'\n",
            " 'swelling in extremities' 'swelling in limb' 'swelling in muscle'\n",
            " 'swelling in neck']\n",
            "\n",
            " Total = 24 \n",
            "\n",
            "Are equal?\n"
          ]
        },
        {
          "output_type": "execute_result",
          "data": {
            "text/plain": [
              "True"
            ]
          },
          "metadata": {},
          "execution_count": 96
        }
      ],
      "source": [
        "def unique_symptoms():\n",
        "    symptom_features = ['Symptom 1','Symptom 2','Symptom 3']\n",
        "    for i in symptom_features:\n",
        "        symptoms = dataset[i].unique()\n",
        "        print(f' {i} = {np.sort(symptoms)}\\n\\n Total = {len(symptoms)} \\n')\n",
        "\n",
        "\n",
        "unique_symptoms()\n",
        "\n",
        "def are_symptoms_same():\n",
        "    Symptop_1 = np.sort(dataset['Symptom 1'].unique())\n",
        "    Symptop_2 = np.sort(dataset['Symptom 2'].unique())\n",
        "    Symptop_3 = np.sort(dataset['Symptom 3'].unique())\n",
        "    print(\"Are equal?\")\n",
        "    return np.array_equal(Symptop_1,Symptop_2) and np.array_equal(Symptop_1,Symptop_3)\n",
        "\n",
        "are_symptoms_same()"
      ]
    },
    {
      "cell_type": "code",
      "execution_count": null,
      "metadata": {
        "id": "MF9m9E6a99s5"
      },
      "outputs": [],
      "source": [
        "from sklearn.preprocessing import LabelEncoder\n",
        "from sklearn.preprocessing import OneHotEncoder\n",
        "from sklearn.model_selection import train_test_split\n",
        "from sklearn.preprocessing import MinMaxScaler"
      ]
    },
    {
      "cell_type": "code",
      "execution_count": null,
      "metadata": {
        "id": "IBWKv7PolXDe"
      },
      "outputs": [],
      "source": [
        "label_encoder = LabelEncoder()\n",
        "encoder = OneHotEncoder(sparse_output=False)\n",
        "scaler = MinMaxScaler()"
      ]
    },
    {
      "cell_type": "code",
      "execution_count": null,
      "metadata": {
        "id": "caP-gOwtkOF0"
      },
      "outputs": [],
      "source": [
        "columns_to_scale = ['Age', 'Temperature']\n",
        "column_to_label_encode = 'Disease'\n",
        "new_dataset = dataset.copy()"
      ]
    },
    {
      "cell_type": "code",
      "execution_count": null,
      "metadata": {
        "colab": {
          "base_uri": "https://localhost:8080/",
          "height": 424
        },
        "id": "IfBo8DjGlQDb",
        "outputId": "7985b9e0-681e-40f2-ebc8-9d2560d57555"
      },
      "outputs": [
        {
          "output_type": "execute_result",
          "data": {
            "text/plain": [
              "        Animal       Age  Temperature                Symptom 1  \\\n",
              "0          cow  0.142857         0.62               depression   \n",
              "1      buffalo  0.857143         0.90           painless lumps   \n",
              "2        sheep  0.000000         0.10               depression   \n",
              "3          cow  0.928571         0.06         loss of appetite   \n",
              "4        sheep  0.071429         0.72           painless lumps   \n",
              "...        ...       ...          ...                      ...   \n",
              "43773     goat  0.571429         0.44       swelling in muscle   \n",
              "43774  buffalo  0.142857         0.36         loss of appetite   \n",
              "43775  buffalo  1.000000         0.82  swelling in extremities   \n",
              "43776      cow  0.571429         0.98          crackling sound   \n",
              "43777  buffalo  0.214286         0.70       difficulty walking   \n",
              "\n",
              "              Symptom 2            Symptom 3         Disease  \n",
              "0        painless lumps     loss of appetite       pneumonia  \n",
              "1      loss of appetite           depression     lumpy virus  \n",
              "2        painless lumps     loss of appetite     lumpy virus  \n",
              "3      swelling in limb      crackling sound        blackleg  \n",
              "4      loss of appetite           depression       pneumonia  \n",
              "...                 ...                  ...             ...  \n",
              "43773          lameness      crackling sound        blackleg  \n",
              "43774    sores on mouth   difficulty walking  foot and mouth  \n",
              "43775            chills  shortness of breath         anthrax  \n",
              "43776          lameness   swelling in muscle        blackleg  \n",
              "43777     sores on gums     loss of appetite  foot and mouth  \n",
              "\n",
              "[43778 rows x 7 columns]"
            ],
            "text/html": [
              "\n",
              "  <div id=\"df-19502c9b-a16e-4c24-8d9f-f6e4ff2d13f9\" class=\"colab-df-container\">\n",
              "    <div>\n",
              "<style scoped>\n",
              "    .dataframe tbody tr th:only-of-type {\n",
              "        vertical-align: middle;\n",
              "    }\n",
              "\n",
              "    .dataframe tbody tr th {\n",
              "        vertical-align: top;\n",
              "    }\n",
              "\n",
              "    .dataframe thead th {\n",
              "        text-align: right;\n",
              "    }\n",
              "</style>\n",
              "<table border=\"1\" class=\"dataframe\">\n",
              "  <thead>\n",
              "    <tr style=\"text-align: right;\">\n",
              "      <th></th>\n",
              "      <th>Animal</th>\n",
              "      <th>Age</th>\n",
              "      <th>Temperature</th>\n",
              "      <th>Symptom 1</th>\n",
              "      <th>Symptom 2</th>\n",
              "      <th>Symptom 3</th>\n",
              "      <th>Disease</th>\n",
              "    </tr>\n",
              "  </thead>\n",
              "  <tbody>\n",
              "    <tr>\n",
              "      <th>0</th>\n",
              "      <td>cow</td>\n",
              "      <td>0.142857</td>\n",
              "      <td>0.62</td>\n",
              "      <td>depression</td>\n",
              "      <td>painless lumps</td>\n",
              "      <td>loss of appetite</td>\n",
              "      <td>pneumonia</td>\n",
              "    </tr>\n",
              "    <tr>\n",
              "      <th>1</th>\n",
              "      <td>buffalo</td>\n",
              "      <td>0.857143</td>\n",
              "      <td>0.90</td>\n",
              "      <td>painless lumps</td>\n",
              "      <td>loss of appetite</td>\n",
              "      <td>depression</td>\n",
              "      <td>lumpy virus</td>\n",
              "    </tr>\n",
              "    <tr>\n",
              "      <th>2</th>\n",
              "      <td>sheep</td>\n",
              "      <td>0.000000</td>\n",
              "      <td>0.10</td>\n",
              "      <td>depression</td>\n",
              "      <td>painless lumps</td>\n",
              "      <td>loss of appetite</td>\n",
              "      <td>lumpy virus</td>\n",
              "    </tr>\n",
              "    <tr>\n",
              "      <th>3</th>\n",
              "      <td>cow</td>\n",
              "      <td>0.928571</td>\n",
              "      <td>0.06</td>\n",
              "      <td>loss of appetite</td>\n",
              "      <td>swelling in limb</td>\n",
              "      <td>crackling sound</td>\n",
              "      <td>blackleg</td>\n",
              "    </tr>\n",
              "    <tr>\n",
              "      <th>4</th>\n",
              "      <td>sheep</td>\n",
              "      <td>0.071429</td>\n",
              "      <td>0.72</td>\n",
              "      <td>painless lumps</td>\n",
              "      <td>loss of appetite</td>\n",
              "      <td>depression</td>\n",
              "      <td>pneumonia</td>\n",
              "    </tr>\n",
              "    <tr>\n",
              "      <th>...</th>\n",
              "      <td>...</td>\n",
              "      <td>...</td>\n",
              "      <td>...</td>\n",
              "      <td>...</td>\n",
              "      <td>...</td>\n",
              "      <td>...</td>\n",
              "      <td>...</td>\n",
              "    </tr>\n",
              "    <tr>\n",
              "      <th>43773</th>\n",
              "      <td>goat</td>\n",
              "      <td>0.571429</td>\n",
              "      <td>0.44</td>\n",
              "      <td>swelling in muscle</td>\n",
              "      <td>lameness</td>\n",
              "      <td>crackling sound</td>\n",
              "      <td>blackleg</td>\n",
              "    </tr>\n",
              "    <tr>\n",
              "      <th>43774</th>\n",
              "      <td>buffalo</td>\n",
              "      <td>0.142857</td>\n",
              "      <td>0.36</td>\n",
              "      <td>loss of appetite</td>\n",
              "      <td>sores on mouth</td>\n",
              "      <td>difficulty walking</td>\n",
              "      <td>foot and mouth</td>\n",
              "    </tr>\n",
              "    <tr>\n",
              "      <th>43775</th>\n",
              "      <td>buffalo</td>\n",
              "      <td>1.000000</td>\n",
              "      <td>0.82</td>\n",
              "      <td>swelling in extremities</td>\n",
              "      <td>chills</td>\n",
              "      <td>shortness of breath</td>\n",
              "      <td>anthrax</td>\n",
              "    </tr>\n",
              "    <tr>\n",
              "      <th>43776</th>\n",
              "      <td>cow</td>\n",
              "      <td>0.571429</td>\n",
              "      <td>0.98</td>\n",
              "      <td>crackling sound</td>\n",
              "      <td>lameness</td>\n",
              "      <td>swelling in muscle</td>\n",
              "      <td>blackleg</td>\n",
              "    </tr>\n",
              "    <tr>\n",
              "      <th>43777</th>\n",
              "      <td>buffalo</td>\n",
              "      <td>0.214286</td>\n",
              "      <td>0.70</td>\n",
              "      <td>difficulty walking</td>\n",
              "      <td>sores on gums</td>\n",
              "      <td>loss of appetite</td>\n",
              "      <td>foot and mouth</td>\n",
              "    </tr>\n",
              "  </tbody>\n",
              "</table>\n",
              "<p>43778 rows × 7 columns</p>\n",
              "</div>\n",
              "    <div class=\"colab-df-buttons\">\n",
              "\n",
              "  <div class=\"colab-df-container\">\n",
              "    <button class=\"colab-df-convert\" onclick=\"convertToInteractive('df-19502c9b-a16e-4c24-8d9f-f6e4ff2d13f9')\"\n",
              "            title=\"Convert this dataframe to an interactive table.\"\n",
              "            style=\"display:none;\">\n",
              "\n",
              "  <svg xmlns=\"http://www.w3.org/2000/svg\" height=\"24px\" viewBox=\"0 -960 960 960\">\n",
              "    <path d=\"M120-120v-720h720v720H120Zm60-500h600v-160H180v160Zm220 220h160v-160H400v160Zm0 220h160v-160H400v160ZM180-400h160v-160H180v160Zm440 0h160v-160H620v160ZM180-180h160v-160H180v160Zm440 0h160v-160H620v160Z\"/>\n",
              "  </svg>\n",
              "    </button>\n",
              "\n",
              "  <style>\n",
              "    .colab-df-container {\n",
              "      display:flex;\n",
              "      gap: 12px;\n",
              "    }\n",
              "\n",
              "    .colab-df-convert {\n",
              "      background-color: #E8F0FE;\n",
              "      border: none;\n",
              "      border-radius: 50%;\n",
              "      cursor: pointer;\n",
              "      display: none;\n",
              "      fill: #1967D2;\n",
              "      height: 32px;\n",
              "      padding: 0 0 0 0;\n",
              "      width: 32px;\n",
              "    }\n",
              "\n",
              "    .colab-df-convert:hover {\n",
              "      background-color: #E2EBFA;\n",
              "      box-shadow: 0px 1px 2px rgba(60, 64, 67, 0.3), 0px 1px 3px 1px rgba(60, 64, 67, 0.15);\n",
              "      fill: #174EA6;\n",
              "    }\n",
              "\n",
              "    .colab-df-buttons div {\n",
              "      margin-bottom: 4px;\n",
              "    }\n",
              "\n",
              "    [theme=dark] .colab-df-convert {\n",
              "      background-color: #3B4455;\n",
              "      fill: #D2E3FC;\n",
              "    }\n",
              "\n",
              "    [theme=dark] .colab-df-convert:hover {\n",
              "      background-color: #434B5C;\n",
              "      box-shadow: 0px 1px 3px 1px rgba(0, 0, 0, 0.15);\n",
              "      filter: drop-shadow(0px 1px 2px rgba(0, 0, 0, 0.3));\n",
              "      fill: #FFFFFF;\n",
              "    }\n",
              "  </style>\n",
              "\n",
              "    <script>\n",
              "      const buttonEl =\n",
              "        document.querySelector('#df-19502c9b-a16e-4c24-8d9f-f6e4ff2d13f9 button.colab-df-convert');\n",
              "      buttonEl.style.display =\n",
              "        google.colab.kernel.accessAllowed ? 'block' : 'none';\n",
              "\n",
              "      async function convertToInteractive(key) {\n",
              "        const element = document.querySelector('#df-19502c9b-a16e-4c24-8d9f-f6e4ff2d13f9');\n",
              "        const dataTable =\n",
              "          await google.colab.kernel.invokeFunction('convertToInteractive',\n",
              "                                                    [key], {});\n",
              "        if (!dataTable) return;\n",
              "\n",
              "        const docLinkHtml = 'Like what you see? Visit the ' +\n",
              "          '<a target=\"_blank\" href=https://colab.research.google.com/notebooks/data_table.ipynb>data table notebook</a>'\n",
              "          + ' to learn more about interactive tables.';\n",
              "        element.innerHTML = '';\n",
              "        dataTable['output_type'] = 'display_data';\n",
              "        await google.colab.output.renderOutput(dataTable, element);\n",
              "        const docLink = document.createElement('div');\n",
              "        docLink.innerHTML = docLinkHtml;\n",
              "        element.appendChild(docLink);\n",
              "      }\n",
              "    </script>\n",
              "  </div>\n",
              "\n",
              "\n",
              "<div id=\"df-03d6e576-7528-42a3-9eeb-f93f4d19bba3\">\n",
              "  <button class=\"colab-df-quickchart\" onclick=\"quickchart('df-03d6e576-7528-42a3-9eeb-f93f4d19bba3')\"\n",
              "            title=\"Suggest charts\"\n",
              "            style=\"display:none;\">\n",
              "\n",
              "<svg xmlns=\"http://www.w3.org/2000/svg\" height=\"24px\"viewBox=\"0 0 24 24\"\n",
              "     width=\"24px\">\n",
              "    <g>\n",
              "        <path d=\"M19 3H5c-1.1 0-2 .9-2 2v14c0 1.1.9 2 2 2h14c1.1 0 2-.9 2-2V5c0-1.1-.9-2-2-2zM9 17H7v-7h2v7zm4 0h-2V7h2v10zm4 0h-2v-4h2v4z\"/>\n",
              "    </g>\n",
              "</svg>\n",
              "  </button>\n",
              "\n",
              "<style>\n",
              "  .colab-df-quickchart {\n",
              "      --bg-color: #E8F0FE;\n",
              "      --fill-color: #1967D2;\n",
              "      --hover-bg-color: #E2EBFA;\n",
              "      --hover-fill-color: #174EA6;\n",
              "      --disabled-fill-color: #AAA;\n",
              "      --disabled-bg-color: #DDD;\n",
              "  }\n",
              "\n",
              "  [theme=dark] .colab-df-quickchart {\n",
              "      --bg-color: #3B4455;\n",
              "      --fill-color: #D2E3FC;\n",
              "      --hover-bg-color: #434B5C;\n",
              "      --hover-fill-color: #FFFFFF;\n",
              "      --disabled-bg-color: #3B4455;\n",
              "      --disabled-fill-color: #666;\n",
              "  }\n",
              "\n",
              "  .colab-df-quickchart {\n",
              "    background-color: var(--bg-color);\n",
              "    border: none;\n",
              "    border-radius: 50%;\n",
              "    cursor: pointer;\n",
              "    display: none;\n",
              "    fill: var(--fill-color);\n",
              "    height: 32px;\n",
              "    padding: 0;\n",
              "    width: 32px;\n",
              "  }\n",
              "\n",
              "  .colab-df-quickchart:hover {\n",
              "    background-color: var(--hover-bg-color);\n",
              "    box-shadow: 0 1px 2px rgba(60, 64, 67, 0.3), 0 1px 3px 1px rgba(60, 64, 67, 0.15);\n",
              "    fill: var(--button-hover-fill-color);\n",
              "  }\n",
              "\n",
              "  .colab-df-quickchart-complete:disabled,\n",
              "  .colab-df-quickchart-complete:disabled:hover {\n",
              "    background-color: var(--disabled-bg-color);\n",
              "    fill: var(--disabled-fill-color);\n",
              "    box-shadow: none;\n",
              "  }\n",
              "\n",
              "  .colab-df-spinner {\n",
              "    border: 2px solid var(--fill-color);\n",
              "    border-color: transparent;\n",
              "    border-bottom-color: var(--fill-color);\n",
              "    animation:\n",
              "      spin 1s steps(1) infinite;\n",
              "  }\n",
              "\n",
              "  @keyframes spin {\n",
              "    0% {\n",
              "      border-color: transparent;\n",
              "      border-bottom-color: var(--fill-color);\n",
              "      border-left-color: var(--fill-color);\n",
              "    }\n",
              "    20% {\n",
              "      border-color: transparent;\n",
              "      border-left-color: var(--fill-color);\n",
              "      border-top-color: var(--fill-color);\n",
              "    }\n",
              "    30% {\n",
              "      border-color: transparent;\n",
              "      border-left-color: var(--fill-color);\n",
              "      border-top-color: var(--fill-color);\n",
              "      border-right-color: var(--fill-color);\n",
              "    }\n",
              "    40% {\n",
              "      border-color: transparent;\n",
              "      border-right-color: var(--fill-color);\n",
              "      border-top-color: var(--fill-color);\n",
              "    }\n",
              "    60% {\n",
              "      border-color: transparent;\n",
              "      border-right-color: var(--fill-color);\n",
              "    }\n",
              "    80% {\n",
              "      border-color: transparent;\n",
              "      border-right-color: var(--fill-color);\n",
              "      border-bottom-color: var(--fill-color);\n",
              "    }\n",
              "    90% {\n",
              "      border-color: transparent;\n",
              "      border-bottom-color: var(--fill-color);\n",
              "    }\n",
              "  }\n",
              "</style>\n",
              "\n",
              "  <script>\n",
              "    async function quickchart(key) {\n",
              "      const quickchartButtonEl =\n",
              "        document.querySelector('#' + key + ' button');\n",
              "      quickchartButtonEl.disabled = true;  // To prevent multiple clicks.\n",
              "      quickchartButtonEl.classList.add('colab-df-spinner');\n",
              "      try {\n",
              "        const charts = await google.colab.kernel.invokeFunction(\n",
              "            'suggestCharts', [key], {});\n",
              "      } catch (error) {\n",
              "        console.error('Error during call to suggestCharts:', error);\n",
              "      }\n",
              "      quickchartButtonEl.classList.remove('colab-df-spinner');\n",
              "      quickchartButtonEl.classList.add('colab-df-quickchart-complete');\n",
              "    }\n",
              "    (() => {\n",
              "      let quickchartButtonEl =\n",
              "        document.querySelector('#df-03d6e576-7528-42a3-9eeb-f93f4d19bba3 button');\n",
              "      quickchartButtonEl.style.display =\n",
              "        google.colab.kernel.accessAllowed ? 'block' : 'none';\n",
              "    })();\n",
              "  </script>\n",
              "</div>\n",
              "\n",
              "  <div id=\"id_e3bb1f13-2196-4484-9228-ce498b0fa042\">\n",
              "    <style>\n",
              "      .colab-df-generate {\n",
              "        background-color: #E8F0FE;\n",
              "        border: none;\n",
              "        border-radius: 50%;\n",
              "        cursor: pointer;\n",
              "        display: none;\n",
              "        fill: #1967D2;\n",
              "        height: 32px;\n",
              "        padding: 0 0 0 0;\n",
              "        width: 32px;\n",
              "      }\n",
              "\n",
              "      .colab-df-generate:hover {\n",
              "        background-color: #E2EBFA;\n",
              "        box-shadow: 0px 1px 2px rgba(60, 64, 67, 0.3), 0px 1px 3px 1px rgba(60, 64, 67, 0.15);\n",
              "        fill: #174EA6;\n",
              "      }\n",
              "\n",
              "      [theme=dark] .colab-df-generate {\n",
              "        background-color: #3B4455;\n",
              "        fill: #D2E3FC;\n",
              "      }\n",
              "\n",
              "      [theme=dark] .colab-df-generate:hover {\n",
              "        background-color: #434B5C;\n",
              "        box-shadow: 0px 1px 3px 1px rgba(0, 0, 0, 0.15);\n",
              "        filter: drop-shadow(0px 1px 2px rgba(0, 0, 0, 0.3));\n",
              "        fill: #FFFFFF;\n",
              "      }\n",
              "    </style>\n",
              "    <button class=\"colab-df-generate\" onclick=\"generateWithVariable('new_dataset')\"\n",
              "            title=\"Generate code using this dataframe.\"\n",
              "            style=\"display:none;\">\n",
              "\n",
              "  <svg xmlns=\"http://www.w3.org/2000/svg\" height=\"24px\"viewBox=\"0 0 24 24\"\n",
              "       width=\"24px\">\n",
              "    <path d=\"M7,19H8.4L18.45,9,17,7.55,7,17.6ZM5,21V16.75L18.45,3.32a2,2,0,0,1,2.83,0l1.4,1.43a1.91,1.91,0,0,1,.58,1.4,1.91,1.91,0,0,1-.58,1.4L9.25,21ZM18.45,9,17,7.55Zm-12,3A5.31,5.31,0,0,0,4.9,8.1,5.31,5.31,0,0,0,1,6.5,5.31,5.31,0,0,0,4.9,4.9,5.31,5.31,0,0,0,6.5,1,5.31,5.31,0,0,0,8.1,4.9,5.31,5.31,0,0,0,12,6.5,5.46,5.46,0,0,0,6.5,12Z\"/>\n",
              "  </svg>\n",
              "    </button>\n",
              "    <script>\n",
              "      (() => {\n",
              "      const buttonEl =\n",
              "        document.querySelector('#id_e3bb1f13-2196-4484-9228-ce498b0fa042 button.colab-df-generate');\n",
              "      buttonEl.style.display =\n",
              "        google.colab.kernel.accessAllowed ? 'block' : 'none';\n",
              "\n",
              "      buttonEl.onclick = () => {\n",
              "        google.colab.notebook.generateWithVariable('new_dataset');\n",
              "      }\n",
              "      })();\n",
              "    </script>\n",
              "  </div>\n",
              "\n",
              "    </div>\n",
              "  </div>\n"
            ]
          },
          "metadata": {},
          "execution_count": 100
        }
      ],
      "source": [
        "#Scaling numerical columns\n",
        "new_dataset[columns_to_scale] = scaler.fit_transform(new_dataset[columns_to_scale])\n",
        "new_dataset"
      ]
    },
    {
      "cell_type": "code",
      "execution_count": null,
      "metadata": {
        "id": "5iZscIJ6oQiH"
      },
      "outputs": [],
      "source": [
        "# # Label Encoding Target column\n",
        "# new_dataset[column_to_label_encode] = label_encoder.fit_transform(new_dataset[column_to_label_encode])\n",
        "# new_dataset"
      ]
    },
    {
      "cell_type": "code",
      "execution_count": null,
      "metadata": {
        "colab": {
          "base_uri": "https://localhost:8080/"
        },
        "id": "rkG_m1Ecrsr3",
        "outputId": "7a065cb6-5125-4743-95e5-a5090dd69594"
      },
      "outputs": [
        {
          "output_type": "stream",
          "name": "stdout",
          "text": [
            "(35022, 6)\n",
            "(35022,)\n",
            "(8756, 6)\n",
            "(8756,)\n"
          ]
        }
      ],
      "source": [
        "#Splitting the dataset\n",
        "train_df = new_dataset.drop('Disease', axis=1)\n",
        "target= new_dataset['Disease']\n",
        "\n",
        "train_df, test_df, train_target, test_target = train_test_split(train_df, target, test_size=0.2, random_state=42)\n",
        "print(train_df.shape)\n",
        "print(train_target.shape)\n",
        "print(test_df.shape)\n",
        "print(test_target.shape)"
      ]
    },
    {
      "cell_type": "code",
      "execution_count": null,
      "metadata": {
        "colab": {
          "base_uri": "https://localhost:8080/"
        },
        "id": "BZwNTCXyuYtL",
        "outputId": "2ef8e049-a980-48f4-9606-3d82a4e7c50e"
      },
      "outputs": [
        {
          "output_type": "execute_result",
          "data": {
            "text/plain": [
              "['Animal', 'Symptom 1', 'Symptom 2', 'Symptom 3']"
            ]
          },
          "metadata": {},
          "execution_count": 103
        }
      ],
      "source": [
        "# Encoding categorical columns\n",
        "categorical_columns = train_df.select_dtypes('object').columns.tolist()\n",
        "categorical_columns"
      ]
    },
    {
      "cell_type": "code",
      "execution_count": null,
      "metadata": {
        "colab": {
          "base_uri": "https://localhost:8080/",
          "height": 75
        },
        "id": "37rR9F-T7u5J",
        "outputId": "5b302be5-f843-49a6-cbff-40dbb60033ee"
      },
      "outputs": [
        {
          "output_type": "execute_result",
          "data": {
            "text/plain": [
              "OneHotEncoder(sparse_output=False)"
            ],
            "text/html": [
              "<style>#sk-container-id-3 {color: black;background-color: white;}#sk-container-id-3 pre{padding: 0;}#sk-container-id-3 div.sk-toggleable {background-color: white;}#sk-container-id-3 label.sk-toggleable__label {cursor: pointer;display: block;width: 100%;margin-bottom: 0;padding: 0.3em;box-sizing: border-box;text-align: center;}#sk-container-id-3 label.sk-toggleable__label-arrow:before {content: \"▸\";float: left;margin-right: 0.25em;color: #696969;}#sk-container-id-3 label.sk-toggleable__label-arrow:hover:before {color: black;}#sk-container-id-3 div.sk-estimator:hover label.sk-toggleable__label-arrow:before {color: black;}#sk-container-id-3 div.sk-toggleable__content {max-height: 0;max-width: 0;overflow: hidden;text-align: left;background-color: #f0f8ff;}#sk-container-id-3 div.sk-toggleable__content pre {margin: 0.2em;color: black;border-radius: 0.25em;background-color: #f0f8ff;}#sk-container-id-3 input.sk-toggleable__control:checked~div.sk-toggleable__content {max-height: 200px;max-width: 100%;overflow: auto;}#sk-container-id-3 input.sk-toggleable__control:checked~label.sk-toggleable__label-arrow:before {content: \"▾\";}#sk-container-id-3 div.sk-estimator input.sk-toggleable__control:checked~label.sk-toggleable__label {background-color: #d4ebff;}#sk-container-id-3 div.sk-label input.sk-toggleable__control:checked~label.sk-toggleable__label {background-color: #d4ebff;}#sk-container-id-3 input.sk-hidden--visually {border: 0;clip: rect(1px 1px 1px 1px);clip: rect(1px, 1px, 1px, 1px);height: 1px;margin: -1px;overflow: hidden;padding: 0;position: absolute;width: 1px;}#sk-container-id-3 div.sk-estimator {font-family: monospace;background-color: #f0f8ff;border: 1px dotted black;border-radius: 0.25em;box-sizing: border-box;margin-bottom: 0.5em;}#sk-container-id-3 div.sk-estimator:hover {background-color: #d4ebff;}#sk-container-id-3 div.sk-parallel-item::after {content: \"\";width: 100%;border-bottom: 1px solid gray;flex-grow: 1;}#sk-container-id-3 div.sk-label:hover label.sk-toggleable__label {background-color: #d4ebff;}#sk-container-id-3 div.sk-serial::before {content: \"\";position: absolute;border-left: 1px solid gray;box-sizing: border-box;top: 0;bottom: 0;left: 50%;z-index: 0;}#sk-container-id-3 div.sk-serial {display: flex;flex-direction: column;align-items: center;background-color: white;padding-right: 0.2em;padding-left: 0.2em;position: relative;}#sk-container-id-3 div.sk-item {position: relative;z-index: 1;}#sk-container-id-3 div.sk-parallel {display: flex;align-items: stretch;justify-content: center;background-color: white;position: relative;}#sk-container-id-3 div.sk-item::before, #sk-container-id-3 div.sk-parallel-item::before {content: \"\";position: absolute;border-left: 1px solid gray;box-sizing: border-box;top: 0;bottom: 0;left: 50%;z-index: -1;}#sk-container-id-3 div.sk-parallel-item {display: flex;flex-direction: column;z-index: 1;position: relative;background-color: white;}#sk-container-id-3 div.sk-parallel-item:first-child::after {align-self: flex-end;width: 50%;}#sk-container-id-3 div.sk-parallel-item:last-child::after {align-self: flex-start;width: 50%;}#sk-container-id-3 div.sk-parallel-item:only-child::after {width: 0;}#sk-container-id-3 div.sk-dashed-wrapped {border: 1px dashed gray;margin: 0 0.4em 0.5em 0.4em;box-sizing: border-box;padding-bottom: 0.4em;background-color: white;}#sk-container-id-3 div.sk-label label {font-family: monospace;font-weight: bold;display: inline-block;line-height: 1.2em;}#sk-container-id-3 div.sk-label-container {text-align: center;}#sk-container-id-3 div.sk-container {/* jupyter's `normalize.less` sets `[hidden] { display: none; }` but bootstrap.min.css set `[hidden] { display: none !important; }` so we also need the `!important` here to be able to override the default hidden behavior on the sphinx rendered scikit-learn.org. See: https://github.com/scikit-learn/scikit-learn/issues/21755 */display: inline-block !important;position: relative;}#sk-container-id-3 div.sk-text-repr-fallback {display: none;}</style><div id=\"sk-container-id-3\" class=\"sk-top-container\"><div class=\"sk-text-repr-fallback\"><pre>OneHotEncoder(sparse_output=False)</pre><b>In a Jupyter environment, please rerun this cell to show the HTML representation or trust the notebook. <br />On GitHub, the HTML representation is unable to render, please try loading this page with nbviewer.org.</b></div><div class=\"sk-container\" hidden><div class=\"sk-item\"><div class=\"sk-estimator sk-toggleable\"><input class=\"sk-toggleable__control sk-hidden--visually\" id=\"sk-estimator-id-3\" type=\"checkbox\" checked><label for=\"sk-estimator-id-3\" class=\"sk-toggleable__label sk-toggleable__label-arrow\">OneHotEncoder</label><div class=\"sk-toggleable__content\"><pre>OneHotEncoder(sparse_output=False)</pre></div></div></div></div></div>"
            ]
          },
          "metadata": {},
          "execution_count": 104
        }
      ],
      "source": [
        "new_dataset2 = new_dataset[categorical_columns]\n",
        "encoder.fit(new_dataset2)"
      ]
    },
    {
      "cell_type": "code",
      "execution_count": null,
      "metadata": {
        "colab": {
          "base_uri": "https://localhost:8080/"
        },
        "id": "-rEumr85_r6W",
        "outputId": "1d7db5a3-6b06-4b15-eef4-685a2bbee084"
      },
      "outputs": [
        {
          "output_type": "stream",
          "name": "stdout",
          "text": [
            "['Animal_buffalo', 'Animal_cow', 'Animal_goat', 'Animal_sheep', 'Symptom 1_blisters on gums', 'Symptom 1_blisters on hooves', 'Symptom 1_blisters on mouth', 'Symptom 1_blisters on tongue', 'Symptom 1_chest discomfort', 'Symptom 1_chills', 'Symptom 1_crackling sound', 'Symptom 1_depression', 'Symptom 1_difficulty walking', 'Symptom 1_fatigue', 'Symptom 1_lameness', 'Symptom 1_loss of appetite', 'Symptom 1_painless lumps', 'Symptom 1_shortness of breath', 'Symptom 1_sores on gums', 'Symptom 1_sores on hooves', 'Symptom 1_sores on mouth', 'Symptom 1_sores on tongue', 'Symptom 1_sweats', 'Symptom 1_swelling in abdomen', 'Symptom 1_swelling in extremities', 'Symptom 1_swelling in limb', 'Symptom 1_swelling in muscle', 'Symptom 1_swelling in neck', 'Symptom 2_blisters on gums', 'Symptom 2_blisters on hooves', 'Symptom 2_blisters on mouth', 'Symptom 2_blisters on tongue', 'Symptom 2_chest discomfort', 'Symptom 2_chills', 'Symptom 2_crackling sound', 'Symptom 2_depression', 'Symptom 2_difficulty walking', 'Symptom 2_fatigue', 'Symptom 2_lameness', 'Symptom 2_loss of appetite', 'Symptom 2_painless lumps', 'Symptom 2_shortness of breath', 'Symptom 2_sores on gums', 'Symptom 2_sores on hooves', 'Symptom 2_sores on mouth', 'Symptom 2_sores on tongue', 'Symptom 2_sweats', 'Symptom 2_swelling in abdomen', 'Symptom 2_swelling in extremities', 'Symptom 2_swelling in limb', 'Symptom 2_swelling in muscle', 'Symptom 2_swelling in neck', 'Symptom 3_blisters on gums', 'Symptom 3_blisters on hooves', 'Symptom 3_blisters on mouth', 'Symptom 3_blisters on tongue', 'Symptom 3_chest discomfort', 'Symptom 3_chills', 'Symptom 3_crackling sound', 'Symptom 3_depression', 'Symptom 3_difficulty walking', 'Symptom 3_fatigue', 'Symptom 3_lameness', 'Symptom 3_loss of appetite', 'Symptom 3_painless lumps', 'Symptom 3_shortness of breath', 'Symptom 3_sores on gums', 'Symptom 3_sores on hooves', 'Symptom 3_sores on mouth', 'Symptom 3_sores on tongue', 'Symptom 3_sweats', 'Symptom 3_swelling in abdomen', 'Symptom 3_swelling in extremities', 'Symptom 3_swelling in limb', 'Symptom 3_swelling in muscle', 'Symptom 3_swelling in neck']\n"
          ]
        }
      ],
      "source": [
        "encoded_columns = list(encoder.get_feature_names_out(categorical_columns))\n",
        "print(encoded_columns)"
      ]
    },
    {
      "cell_type": "code",
      "execution_count": null,
      "metadata": {
        "id": "GQlll6oNAqz3"
      },
      "outputs": [],
      "source": [
        "train_df[encoded_columns] = encoder.transform(train_df[categorical_columns])\n",
        "test_df[encoded_columns] = encoder.transform(test_df[categorical_columns])\n",
        "\n",
        "train_df.drop(columns=['Animal', 'Symptom 1', 'Symptom 2', 'Symptom 3'], inplace=True)\n",
        "test_df.drop(columns=['Animal', 'Symptom 1', 'Symptom 2', 'Symptom 3'], inplace=True)\n",
        "\n",
        "X_train = train_df\n",
        "X_test = test_df\n",
        "y_train = train_target\n",
        "y_test = test_target\n"
      ]
    },
    {
      "cell_type": "markdown",
      "metadata": {
        "id": "PypP8BT1koTh"
      },
      "source": [
        "**BUILDING THE MODEL**"
      ]
    },
    {
      "cell_type": "code",
      "execution_count": null,
      "metadata": {
        "id": "dvjepn0uDzYt"
      },
      "outputs": [],
      "source": [
        "from sklearn.ensemble import RandomForestClassifier\n",
        "from xgboost import XGBClassifier\n",
        "from sklearn.svm import SVC\n",
        "from sklearn.linear_model import LogisticRegression\n",
        "from sklearn.metrics import accuracy_score"
      ]
    },
    {
      "cell_type": "code",
      "execution_count": null,
      "metadata": {
        "colab": {
          "base_uri": "https://localhost:8080/"
        },
        "id": "rAKAZN_G6d9N",
        "outputId": "a3a18686-a89f-48bb-d81e-bedd916f1bc1"
      },
      "outputs": [
        {
          "output_type": "stream",
          "name": "stdout",
          "text": [
            "Accuracy: 77.54682503426223\n",
            "CPU times: user 4.5 s, sys: 30.9 ms, total: 4.53 s\n",
            "Wall time: 4.59 s\n"
          ]
        }
      ],
      "source": [
        "#Random forest\n",
        "%%time\n",
        "RForest = RandomForestClassifier(random_state= 42)\n",
        "RForest.fit(X_train, y_train)\n",
        "y_pred = RForest.predict(X_test)\n",
        "accuracy = accuracy_score(y_test, y_pred)*100\n",
        "print(f'Accuracy: {accuracy}')"
      ]
    },
    {
      "cell_type": "code",
      "execution_count": null,
      "metadata": {
        "colab": {
          "base_uri": "https://localhost:8080/",
          "height": 418
        },
        "id": "-4joZ1Hw8DwR",
        "outputId": "1ad4f72d-881f-41d2-8e86-0ffe55992461"
      },
      "outputs": [
        {
          "output_type": "error",
          "ename": "ValueError",
          "evalue": "ignored",
          "traceback": [
            "\u001b[0;31m---------------------------------------------------------------------------\u001b[0m",
            "\u001b[0;31mValueError\u001b[0m                                Traceback (most recent call last)",
            "\u001b[0;32m<timed exec>\u001b[0m in \u001b[0;36m<module>\u001b[0;34m\u001b[0m\n",
            "\u001b[0;32m/usr/local/lib/python3.10/dist-packages/xgboost/core.py\u001b[0m in \u001b[0;36minner_f\u001b[0;34m(*args, **kwargs)\u001b[0m\n\u001b[1;32m    727\u001b[0m             \u001b[0;32mfor\u001b[0m \u001b[0mk\u001b[0m\u001b[0;34m,\u001b[0m \u001b[0marg\u001b[0m \u001b[0;32min\u001b[0m \u001b[0mzip\u001b[0m\u001b[0;34m(\u001b[0m\u001b[0msig\u001b[0m\u001b[0;34m.\u001b[0m\u001b[0mparameters\u001b[0m\u001b[0;34m,\u001b[0m \u001b[0margs\u001b[0m\u001b[0;34m)\u001b[0m\u001b[0;34m:\u001b[0m\u001b[0;34m\u001b[0m\u001b[0;34m\u001b[0m\u001b[0m\n\u001b[1;32m    728\u001b[0m                 \u001b[0mkwargs\u001b[0m\u001b[0;34m[\u001b[0m\u001b[0mk\u001b[0m\u001b[0;34m]\u001b[0m \u001b[0;34m=\u001b[0m \u001b[0marg\u001b[0m\u001b[0;34m\u001b[0m\u001b[0;34m\u001b[0m\u001b[0m\n\u001b[0;32m--> 729\u001b[0;31m             \u001b[0;32mreturn\u001b[0m \u001b[0mfunc\u001b[0m\u001b[0;34m(\u001b[0m\u001b[0;34m**\u001b[0m\u001b[0mkwargs\u001b[0m\u001b[0;34m)\u001b[0m\u001b[0;34m\u001b[0m\u001b[0;34m\u001b[0m\u001b[0m\n\u001b[0m\u001b[1;32m    730\u001b[0m \u001b[0;34m\u001b[0m\u001b[0m\n\u001b[1;32m    731\u001b[0m         \u001b[0;32mreturn\u001b[0m \u001b[0minner_f\u001b[0m\u001b[0;34m\u001b[0m\u001b[0;34m\u001b[0m\u001b[0m\n",
            "\u001b[0;32m/usr/local/lib/python3.10/dist-packages/xgboost/sklearn.py\u001b[0m in \u001b[0;36mfit\u001b[0;34m(self, X, y, sample_weight, base_margin, eval_set, eval_metric, early_stopping_rounds, verbose, xgb_model, sample_weight_eval_set, base_margin_eval_set, feature_weights, callbacks)\u001b[0m\n\u001b[1;32m   1465\u001b[0m                 \u001b[0;32mor\u001b[0m \u001b[0;32mnot\u001b[0m \u001b[0;34m(\u001b[0m\u001b[0mclasses\u001b[0m \u001b[0;34m==\u001b[0m \u001b[0mexpected_classes\u001b[0m\u001b[0;34m)\u001b[0m\u001b[0;34m.\u001b[0m\u001b[0mall\u001b[0m\u001b[0;34m(\u001b[0m\u001b[0;34m)\u001b[0m\u001b[0;34m\u001b[0m\u001b[0;34m\u001b[0m\u001b[0m\n\u001b[1;32m   1466\u001b[0m             ):\n\u001b[0;32m-> 1467\u001b[0;31m                 raise ValueError(\n\u001b[0m\u001b[1;32m   1468\u001b[0m                     \u001b[0;34mf\"Invalid classes inferred from unique values of `y`.  \"\u001b[0m\u001b[0;34m\u001b[0m\u001b[0;34m\u001b[0m\u001b[0m\n\u001b[1;32m   1469\u001b[0m                     \u001b[0;34mf\"Expected: {expected_classes}, got {classes}\"\u001b[0m\u001b[0;34m\u001b[0m\u001b[0;34m\u001b[0m\u001b[0m\n",
            "\u001b[0;31mValueError\u001b[0m: Invalid classes inferred from unique values of `y`.  Expected: [0 1 2 3 4], got ['anthrax' 'blackleg' 'foot and mouth' 'lumpy virus' 'pneumonia']"
          ]
        }
      ],
      "source": [
        "#XGBoster\n",
        "%%time\n",
        "xgb = XGBClassifier()\n",
        "xgb.fit(X_train,y_train)\n",
        "y_pred = xgb.predict(X_test)\n",
        "accuracy = accuracy_score(y_test, y_pred)*100\n",
        "print(f'Accuracy: {accuracy}')"
      ]
    },
    {
      "cell_type": "code",
      "execution_count": null,
      "metadata": {
        "colab": {
          "base_uri": "https://localhost:8080/"
        },
        "id": "8f74KRRJ9vT0",
        "outputId": "5ddc1172-12d3-4770-fa81-a1eb3df86c4a"
      },
      "outputs": [
        {
          "output_type": "stream",
          "name": "stdout",
          "text": [
            "Accuracy: 83.24577432617633\n",
            "CPU times: user 9.99 s, sys: 3.41 s, total: 13.4 s\n",
            "Wall time: 10.9 s\n"
          ]
        }
      ],
      "source": [
        "#Logistic Regression\n",
        "%%time\n",
        "lr = LogisticRegression(max_iter = 1000)\n",
        "lr.fit(X_train, y_train)\n",
        "y_pred = lr.predict(X_test)\n",
        "accuracy = accuracy_score(y_test, y_pred)*100\n",
        "print(f'Accuracy: {accuracy}')"
      ]
    },
    {
      "cell_type": "code",
      "execution_count": null,
      "metadata": {
        "colab": {
          "base_uri": "https://localhost:8080/"
        },
        "id": "sEY9Gq-b-jsu",
        "outputId": "ed818979-9ac0-4661-cd39-6453cf06e0be"
      },
      "outputs": [
        {
          "output_type": "stream",
          "name": "stdout",
          "text": [
            "Accuracy: 83.2571950662403\n",
            "CPU times: user 56.7 s, sys: 219 ms, total: 57 s\n",
            "Wall time: 1min 5s\n"
          ]
        }
      ],
      "source": [
        "#Support Vector Classifier\n",
        "%%time\n",
        "svc = SVC()\n",
        "svc.fit(X_train, y_train)\n",
        "pred = svc.predict(X_test)\n",
        "accuracy = accuracy_score(y_test, pred)*100\n",
        "print(f'Accuracy: {accuracy}')"
      ]
    },
    {
      "cell_type": "markdown",
      "metadata": {
        "id": "FhVDmreYqyYa"
      },
      "source": [
        "**CREATING AN INTERACTIVE ANIMAL DISEASE PREDICTOR**"
      ]
    },
    {
      "cell_type": "code",
      "execution_count": null,
      "metadata": {
        "colab": {
          "base_uri": "https://localhost:8080/"
        },
        "id": "8KLdcKfzt5HY",
        "outputId": "943436d3-c690-4684-f5de-d414fc3ff95a"
      },
      "outputs": [
        {
          "output_type": "stream",
          "name": "stdout",
          "text": [
            "Hello welcome to our ML powered animal disease predictor program. Please take note:\n",
            "Animals we support:['cow', 'buffalo', 'sheep', 'goat']\n",
            "\n",
            "Supported symptoms['blisters on gums', 'blisters on hooves', 'blisters on mouth', 'blisters on tongue', 'chest discomfort', 'chills', 'crackling sound', 'depression', 'difficulty walking', 'fatigue', 'lameness', 'loss of appetite', 'painless lumps', 'shortness of breath', 'sores on gums', 'sores on hooves', 'sores on mouth', 'sores on tongue', 'sweats', 'swelling in abdomen', 'swelling in extremities', 'swelling in limb', 'swelling in muscle', 'swelling in neck']\n",
            "Type of animal: sheep\n",
            "How old is the animal: 2\n",
            "Animal's temperature: 112\n",
            "First symptom: lameness\n",
            "Second symptom: depression\n",
            "Third symptom: fatigue\n",
            "Prediction: blackleg, Probability: 62%\n"
          ]
        }
      ],
      "source": [
        "def greet():\n",
        "  supported_animals = ['cow', 'buffalo', 'sheep', 'goat']\n",
        "  supported_symptoms = ['blisters on gums', 'blisters on hooves', 'blisters on mouth',\n",
        " 'blisters on tongue', 'chest discomfort', 'chills', 'crackling sound',\n",
        " 'depression', 'difficulty walking', 'fatigue', 'lameness', 'loss of appetite',\n",
        " 'painless lumps', 'shortness of breath', 'sores on gums', 'sores on hooves',\n",
        " 'sores on mouth', 'sores on tongue', 'sweats', 'swelling in abdomen',\n",
        " 'swelling in extremities', 'swelling in limb', 'swelling in muscle',\n",
        " 'swelling in neck']\n",
        "  print(\"Hello welcome to our ML powered animal disease predictor program. Please take note:\")\n",
        "  print(f\"Animals we support:{supported_animals}\\n\\nSupported symptoms{supported_symptoms}\")\n",
        "\n",
        "def collect_data():\n",
        "  animal = input(\"Type of animal: \")\n",
        "  age = float(input(\"How old is the animal: \"))\n",
        "  temperature = float(input('Animal\\'s temperature: '))\n",
        "  symptom1 = input(\"First symptom: \")\n",
        "  symptom2 = input(\"Second symptom: \")\n",
        "  symptom3 = input(\"Third symptom: \")\n",
        "  return [animal, age, temperature, symptom1, symptom2, symptom3]\n",
        "\n",
        "\n",
        "def format_data(data: list):\n",
        "\n",
        "  data = {\n",
        "      'Animal': data[0],\n",
        "      'Age': data[1],\n",
        "      'Temperature': data[2],\n",
        "      'Symptom 1': data[3],\n",
        "      'Symptom 2': data[4],\n",
        "      'Symptom 3': data[5]\n",
        "      }\n",
        "  return data\n",
        "\n",
        "\n",
        "def predict_disease(input_data, model):\n",
        "  numerical_col = ['Age', 'Temperature']\n",
        "  categorical_col = ['Animal', 'Symptom 1', 'Symptom 2', 'Symptom 3']\n",
        "  input_df = pd.DataFrame(input_data, index=[0])\n",
        "  input_df[numerical_col] = scaler.transform(input_df[numerical_col])\n",
        "  input_df[encoded_columns] = encoder.transform(input_df[categorical_columns])\n",
        "  input_df.drop(columns=categorical_col, inplace=True)\n",
        "\n",
        "  prediction = model.predict(input_df)[0]\n",
        "  probability = model.predict_proba(input_df)[0][list(model.classes_).index(prediction)]\n",
        "  print(f\"Prediction: {prediction}, Probability: {round((probability *100 ),2)}%\")\n",
        "\n",
        "\n",
        "greet()\n",
        "collect_data = collect_data()\n",
        "animal_data = format_data(collect_data)\n",
        "predict_disease(animal_data, RForest)\n"
      ]
    }
  ],
  "metadata": {
    "colab": {
      "provenance": [],
      "authorship_tag": "ABX9TyMp2olp2PxpGN12t7qY4MgU",
      "include_colab_link": true
    },
    "kernelspec": {
      "display_name": "Python 3",
      "name": "python3"
    },
    "language_info": {
      "name": "python"
    }
  },
  "nbformat": 4,
  "nbformat_minor": 0
}